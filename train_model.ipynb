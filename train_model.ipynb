{
 "cells": [
  {
   "cell_type": "code",
   "execution_count": 3,
   "metadata": {},
   "outputs": [],
   "source": [
    "%load_ext autoreload\n",
    "%autoreload 2"
   ]
  },
  {
   "cell_type": "code",
   "execution_count": 1,
   "metadata": {},
   "outputs": [],
   "source": [
    "%matplotlib inline\n",
    "\n",
    "import pandas as pd\n",
    "import seaborn as sns\n",
    "import matplotlib.pyplot as plt\n",
    "\n",
    "from dialogue_classification.dataset_utils import load_swda_corpus_data"
   ]
  },
  {
   "cell_type": "code",
   "execution_count": 25,
   "metadata": {},
   "outputs": [],
   "source": [
    "from dialogue_classification.train_test_split import train_set_idx, valid_set_idx, test_set_idx"
   ]
  },
  {
   "cell_type": "code",
   "execution_count": 2,
   "metadata": {},
   "outputs": [
    {
     "name": "stdout",
     "output_type": "stream",
     "text": [
      "Loading SwDA Corpus...\n",
      "\n",
      "Found 43 different utterance tags.\n",
      "\n",
      "Loaded SwDA Corpus.\n"
     ]
    }
   ],
   "source": [
    "talks, talk_names, tag_indices, tag_occurances = load_swda_corpus_data('swda/swda/swda')"
   ]
  },
  {
   "cell_type": "code",
   "execution_count": 9,
   "metadata": {},
   "outputs": [
    {
     "data": {
      "text/plain": [
       "(1155, 1155)"
      ]
     },
     "execution_count": 9,
     "metadata": {},
     "output_type": "execute_result"
    }
   ],
   "source": [
    "len(talks), len(talk_names)"
   ]
  },
  {
   "cell_type": "code",
   "execution_count": 19,
   "metadata": {},
   "outputs": [
    {
     "data": {
      "image/png": "[encoded data removed]",
      "text/plain": [
       "<Figure size 1152x576 with 1 Axes>"
      ]
     },
     "metadata": {
      "needs_background": "light"
     },
     "output_type": "display_data"
    }
   ],
   "source": [
    "tag_occurances = pd.Series(tag_occurances)\n",
    "tag_occurances = tag_occurances.sort_values(ascending=False)\n",
    "\n",
    "plt.figure(figsize=(16, 8))\n",
    "sns.barplot(x=tag_occurances.index, y=tag_occurances.values)\n",
    "plt.xticks(rotation=90)\n",
    "plt.show()"
   ]
  },
  {
   "cell_type": "code",
   "execution_count": 21,
   "metadata": {},
   "outputs": [],
   "source": [
    "texts, labels = [], []\n",
    "for text, label in talks:\n",
    "    assert len(text) == len(label)\n",
    "    text = [' '.join(utterance) for utterance in text]\n",
    "    texts.append(text)\n",
    "    labels.append(label)"
   ]
  },
  {
   "cell_type": "code",
   "execution_count": 26,
   "metadata": {},
   "outputs": [
    {
     "data": {
      "text/plain": [
       "(1003, 112, 19)"
      ]
     },
     "execution_count": 26,
     "metadata": {},
     "output_type": "execute_result"
    }
   ],
   "source": [
    "len(train_set_idx), len(valid_set_idx), len(test_set_idx) "
   ]
  },
  {
   "cell_type": "code",
   "execution_count": 31,
   "metadata": {},
   "outputs": [
    {
     "data": {
      "text/plain": [
       "count    1155.000000\n",
       "mean      191.875325\n",
       "std        79.728384\n",
       "min        38.000000\n",
       "25%       131.000000\n",
       "50%       173.000000\n",
       "75%       240.000000\n",
       "max       540.000000\n",
       "dtype: float64"
      ]
     },
     "execution_count": 31,
     "metadata": {},
     "output_type": "execute_result"
    }
   ],
   "source": [
    "dialogue_lens = pd.Series([len(dialogue) for dialogue in texts])\n",
    "dialogue_lens.describe()"
   ]
  },
  {
   "cell_type": "code",
   "execution_count": 39,
   "metadata": {},
   "outputs": [
    {
     "data": {
      "text/plain": [
       "count    221616.000000\n",
       "mean          7.057018\n",
       "std           6.901779\n",
       "min           0.000000\n",
       "25%           2.000000\n",
       "50%           5.000000\n",
       "75%          10.000000\n",
       "max          79.000000\n",
       "dtype: float64"
      ]
     },
     "execution_count": 39,
     "metadata": {},
     "output_type": "execute_result"
    }
   ],
   "source": [
    "utterance_lens = [len(utterance.split()) for utterance in sum(texts, [])]\n",
    "utterance_lens = pd.Series(utterance_lens)\n",
    "utterance_lens.describe()"
   ]
  },
  {
   "cell_type": "code",
   "execution_count": 40,
   "metadata": {},
   "outputs": [
    {
     "data": {
      "text/plain": [
       "21.0"
      ]
     },
     "execution_count": 40,
     "metadata": {},
     "output_type": "execute_result"
    }
   ],
   "source": [
    "utterance_lens.quantile(0.95)  # => MAX_UTTERANCE_LEN = 25"
   ]
  },
  {
   "cell_type": "code",
   "execution_count": 46,
   "metadata": {},
   "outputs": [],
   "source": [
    "from dialogue_classification.config import MAX_UTTERANCE_LEN"
   ]
  },
  {
   "cell_type": "code",
   "execution_count": 47,
   "metadata": {},
   "outputs": [],
   "source": [
    "from transformers import BertTokenizer\n",
    "\n",
    "tokenizer = BertTokenizer.from_pretrained('bert-base-uncased', do_lower_case=True, model_max_length=MAX_UTTERANCE_LEN)"
   ]
  },
  {
   "cell_type": "code",
   "execution_count": 57,
   "metadata": {},
   "outputs": [],
   "source": [
    "import numpy as np"
   ]
  },
  {
   "cell_type": "code",
   "execution_count": 58,
   "metadata": {},
   "outputs": [
    {
     "name": "stderr",
     "output_type": "stream",
     "text": [
      "<ipython-input-58-9d1310bb2479>:1: VisibleDeprecationWarning: Creating an ndarray from ragged nested sequences (which is a list-or-tuple of lists-or-tuples-or ndarrays with different lengths or shapes) is deprecated. If you meant to do this, you must specify 'dtype=object' when creating the ndarray\n",
      "  texts = np.array(texts)\n",
      "<ipython-input-58-9d1310bb2479>:2: VisibleDeprecationWarning: Creating an ndarray from ragged nested sequences (which is a list-or-tuple of lists-or-tuples-or ndarrays with different lengths or shapes) is deprecated. If you meant to do this, you must specify 'dtype=object' when creating the ndarray\n",
      "  labels = np.array(labels)\n"
     ]
    }
   ],
   "source": [
    "texts = np.array(texts)\n",
    "labels = np.array(labels)\n",
    "talk_names = np.array(talk_names)"
   ]
  },
  {
   "cell_type": "code",
   "execution_count": 64,
   "metadata": {},
   "outputs": [],
   "source": [
    "from tqdm import tqdm"
   ]
  },
  {
   "cell_type": "code",
   "execution_count": 69,
   "metadata": {},
   "outputs": [
    {
     "name": "stderr",
     "output_type": "stream",
     "text": [
      "100%|██████████████████████████████████████████████████████████████████████████████| 1155/1155 [01:07<00:00, 17.04it/s]\n"
     ]
    }
   ],
   "source": [
    "input_ids, attention_masks = [], []\n",
    "for text in tqdm(texts):\n",
    "    encoded_input = tokenizer(text, padding=True, truncation=True, return_tensors='pt')\n",
    "    input_ids.append(encoded_input['input_ids'])\n",
    "    attention_masks.append(encoded_input['attention_mask'])    "
   ]
  },
  {
   "cell_type": "code",
   "execution_count": 89,
   "metadata": {},
   "outputs": [],
   "source": [
    "for i in range(len(input_ids)):\n",
    "    if input_ids[i].size(1) < MAX_UTTERANCE_LEN:\n",
    "        padding_shape = (input_ids[i].size(0), MAX_UTTERANCE_LEN - input_ids[i].size(1))\n",
    "        input_ids[i] = torch.cat((input_ids[i], torch.zeros(padding_shape)), axis=1)\n",
    "        attention_masks[i] = torch.cat((attention_masks[i], torch.zeros(padding_shape)), axis=1)"
   ]
  },
  {
   "cell_type": "code",
   "execution_count": 93,
   "metadata": {},
   "outputs": [],
   "source": [
    "import torch\n",
    "from torch.nn.utils.rnn import pad_sequence\n",
    "\n",
    "dialogue_lengths = [len(dialogue) for dialogue in input_ids]\n",
    "dialogue_lengths = torch.LongTensor(dialogue_lengths)\n",
    "\n",
    "input_ids = pad_sequence(input_ids, batch_first=True)\n",
    "attention_masks = pad_sequence(attention_masks, batch_first=True)\n",
    "\n",
    "labels = [torch.Tensor(label) for label in labels]\n",
    "y = pad_sequence(labels, batch_first=True)"
   ]
  },
  {
   "cell_type": "code",
   "execution_count": 94,
   "metadata": {},
   "outputs": [
    {
     "data": {
      "text/plain": [
       "(torch.Size([1155]),\n",
       " torch.Size([1155, 540, 25]),\n",
       " torch.Size([1155, 540, 25]),\n",
       " torch.Size([1155, 540]))"
      ]
     },
     "execution_count": 94,
     "metadata": {},
     "output_type": "execute_result"
    }
   ],
   "source": [
    "dialogue_lengths.shape, input_ids.shape, attention_masks.shape, y.shape"
   ]
  },
  {
   "cell_type": "code",
   "execution_count": 95,
   "metadata": {},
   "outputs": [],
   "source": [
    "data = [input_ids, attention_masks, dialogue_lengths, y]"
   ]
  },
  {
   "cell_type": "code",
   "execution_count": 101,
   "metadata": {},
   "outputs": [],
   "source": [
    "from dialogue_classification.training import train_model"
   ]
  },
  {
   "cell_type": "code",
   "execution_count": null,
   "metadata": {},
   "outputs": [
    {
     "data": {
      "application/vnd.jupyter.widget-view+json": {
       "model_id": "5a6e1551232447e9834d312550ad79a9",
       "version_major": 2,
       "version_minor": 0
      },
      "text/plain": [
       "Downloading:   0%|          | 0.00/433 [00:00<?, ?B/s]"
      ]
     },
     "metadata": {},
     "output_type": "display_data"
    },
    {
     "data": {
      "application/vnd.jupyter.widget-view+json": {
       "model_id": "41feba7f2293479ea991bc15fada7fdb",
       "version_major": 2,
       "version_minor": 0
      },
      "text/plain": [
       "Downloading:   0%|          | 0.00/440M [00:00<?, ?B/s]"
      ]
     },
     "metadata": {},
     "output_type": "display_data"
    }
   ],
   "source": [
    "net_conf = {\n",
    "    'input_size': 768,\n",
    "    'output_size': len(tag_occurances),\n",
    "    'rnn_hidden_size': 64,\n",
    "    'use_attention': False,\n",
    "}\n",
    "\n",
    "score = train_model(data, talk_names, net_conf=net_conf, verbose=True, plot=True)"
   ]
  }
 ],
 "metadata": {
  "kernelspec": {
   "display_name": "Python 3",
   "language": "python",
   "name": "python3"
  },
  "language_info": {
   "codemirror_mode": {
    "name": "ipython",
    "version": 3
   },
   "file_extension": ".py",
   "mimetype": "text/x-python",
   "name": "python",
   "nbconvert_exporter": "python",
   "pygments_lexer": "ipython3",
   "version": "3.8.3"
  }
 },
 "nbformat": 4,
 "nbformat_minor": 4
}
