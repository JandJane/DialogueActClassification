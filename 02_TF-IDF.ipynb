{
 "cells": [
  {
   "cell_type": "code",
   "execution_count": 1,
   "id": "d096c47e-eb0c-4017-8f14-0f97ead02a3f",
   "metadata": {},
   "outputs": [],
   "source": [
    "%load_ext autoreload\n",
    "%autoreload 2"
   ]
  },
  {
   "cell_type": "code",
   "execution_count": 2,
   "id": "5f10c5ba-08c8-4081-89ac-e796d49220bc",
   "metadata": {},
   "outputs": [],
   "source": [
    "%matplotlib inline\n",
    "\n",
    "import numpy as np\n",
    "import pandas as pd\n",
    "from lightgbm import LGBMClassifier\n",
    "from sklearn.feature_extraction.text import TfidfVectorizer\n",
    "from sklearn.metrics import f1_score\n",
    "\n",
    "import sys\n",
    "sys.path.append('DialogueActClassification')\n",
    "\n",
    "from dialogue_classification.dataset_utils import load_swda_corpus_data\n",
    "from dialogue_classification.train_test_split import train_set_idx, valid_set_idx, test_set_idx"
   ]
  },
  {
   "cell_type": "markdown",
   "id": "110b522c-c389-4bf6-9c55-0e082d2fa28d",
   "metadata": {},
   "source": [
    "## Prepare data"
   ]
  },
  {
   "cell_type": "code",
   "execution_count": 3,
   "id": "4881211d-55b1-4bbd-92bc-46f9e994ebaf",
   "metadata": {},
   "outputs": [
    {
     "name": "stdout",
     "output_type": "stream",
     "text": [
      "Loading SwDA Corpus...\n",
      "\n",
      "Found 43 different utterance tags.\n",
      "\n",
      "Loaded SwDA Corpus.\n"
     ]
    }
   ],
   "source": [
    "talks, talk_names, tag_indices, tag_occurances = load_swda_corpus_data('swda/swda/swda')"
   ]
  },
  {
   "cell_type": "code",
   "execution_count": 4,
   "id": "bab26076-0890-48f0-be06-c912a40b2c40",
   "metadata": {},
   "outputs": [
    {
     "data": {
      "text/plain": [
       "(1155, 43)"
      ]
     },
     "execution_count": 4,
     "metadata": {},
     "output_type": "execute_result"
    }
   ],
   "source": [
    "len(talks), len(tag_indices)"
   ]
  },
  {
   "cell_type": "code",
   "execution_count": 5,
   "id": "861d5c56-0736-462c-9765-ca464db7af99",
   "metadata": {},
   "outputs": [],
   "source": [
    "import re\n",
    "\n",
    "def preprocess(text):\n",
    "    text = text.lower()\n",
    "    text = re.sub(\"[,']+\", '', text)\n",
    "    text = re.sub('\\.', ' . ', text)\n",
    "    text = re.sub('\\?', ' ? ', text)\n",
    "    text = re.sub('!', ' ! ', text)\n",
    "    text = re.sub('\\s+', ' ', text)\n",
    "    return text"
   ]
  },
  {
   "cell_type": "code",
   "execution_count": 6,
   "id": "4839c599-1cd2-474c-9482-731ac3496a22",
   "metadata": {},
   "outputs": [],
   "source": [
    "texts, labels = [], []\n",
    "for text, label in talks:\n",
    "    assert len(text) == len(label)\n",
    "    text = [' '.join(utterance) for utterance in text]\n",
    "    texts.append(text)\n",
    "    labels.append(label)"
   ]
  },
  {
   "cell_type": "code",
   "execution_count": 7,
   "id": "885f429a-767b-4b6b-b77f-6c29887e2543",
   "metadata": {},
   "outputs": [],
   "source": [
    "texts = [[preprocess(utt) for utt in text] for text in texts]"
   ]
  },
  {
   "cell_type": "code",
   "execution_count": 8,
   "id": "d051c5a3-13ba-443c-a3c8-26f1246411ec",
   "metadata": {},
   "outputs": [],
   "source": [
    "train_idx = np.isin(talk_names, train_set_idx)\n",
    "valid_idx = np.isin(talk_names, valid_set_idx)\n",
    "test_idx = np.isin(talk_names, test_set_idx)"
   ]
  },
  {
   "cell_type": "code",
   "execution_count": 9,
   "id": "7cc4e42f-d115-47f0-9b68-a25d9dadcf4e",
   "metadata": {},
   "outputs": [
    {
     "name": "stderr",
     "output_type": "stream",
     "text": [
      "/var/folders/pk/0hw9m8496w7gxnl1pfsssfdddh310s/T/ipykernel_72735/1925198038.py:1: VisibleDeprecationWarning: Creating an ndarray from ragged nested sequences (which is a list-or-tuple of lists-or-tuples-or ndarrays with different lengths or shapes) is deprecated. If you meant to do this, you must specify 'dtype=object' when creating the ndarray.\n",
      "  texts, labels = np.array(texts), np.array(labels)\n"
     ]
    }
   ],
   "source": [
    "texts, labels = np.array(texts), np.array(labels)\n",
    "\n",
    "train_texts, train_labels = texts[train_idx], labels[train_idx]\n",
    "valid_texts, valid_labels = texts[valid_idx], labels[valid_idx]\n",
    "test_texts, test_labels = texts[test_idx], labels[test_idx]"
   ]
  },
  {
   "cell_type": "code",
   "execution_count": 10,
   "id": "22703259-27de-4db0-ab4d-48f5c6beea05",
   "metadata": {},
   "outputs": [
    {
     "data": {
      "text/plain": [
       "(1003, 112, 19)"
      ]
     },
     "execution_count": 10,
     "metadata": {},
     "output_type": "execute_result"
    }
   ],
   "source": [
    "len(train_texts), len(valid_texts), len(test_texts)"
   ]
  },
  {
   "cell_type": "code",
   "execution_count": 11,
   "id": "00285eb3-e298-4203-8dfc-b2f82a15f21d",
   "metadata": {},
   "outputs": [],
   "source": [
    "# flatten\n",
    "train_texts = sum(train_texts.tolist(), [])\n",
    "valid_texts = sum(valid_texts.tolist(), [])\n",
    "test_texts = sum(test_texts.tolist(), [])\n",
    "\n",
    "train_labels = np.array(sum(train_labels.tolist(), []))\n",
    "valid_labels = np.array(sum(valid_labels.tolist(), []))\n",
    "test_labels = np.array(sum(test_labels.tolist(), []))"
   ]
  },
  {
   "cell_type": "code",
   "execution_count": 12,
   "id": "e481f213-0f0c-4733-9319-2a77b084dddf",
   "metadata": {},
   "outputs": [
    {
     "data": {
      "text/plain": [
       "['so ive been concerned about crime lately . ',\n",
       " 'uh-huh . ',\n",
       " 'uh its really scary to listen to the news every night and --',\n",
       " 'uh-huh . ',\n",
       " '-- to hear about all the problems . ',\n",
       " 'i wondered if you were taking any special precautions in your neighborhood ? ',\n",
       " 'well i i think we have a neighborhood watch <laughter> . ',\n",
       " 'uh-huh . ',\n",
       " 'i think . ',\n",
       " '<laughter> . ']"
      ]
     },
     "execution_count": 12,
     "metadata": {},
     "output_type": "execute_result"
    }
   ],
   "source": [
    "train_texts[:10]"
   ]
  },
  {
   "cell_type": "code",
   "execution_count": 13,
   "id": "dd892414-033a-444e-acb5-638f7f84546a",
   "metadata": {},
   "outputs": [
    {
     "data": {
      "text/plain": [
       "array([38, 11, 39, 11,  1, 37, 25, 11, 38, 42])"
      ]
     },
     "execution_count": 13,
     "metadata": {},
     "output_type": "execute_result"
    }
   ],
   "source": [
    "train_labels[:10]"
   ]
  },
  {
   "cell_type": "markdown",
   "id": "b17b13d1-610c-4546-ad87-4d04472ef14d",
   "metadata": {},
   "source": [
    "## Tf-Idf features"
   ]
  },
  {
   "cell_type": "code",
   "execution_count": 14,
   "id": "eb5f2c76-aa1f-474f-8e78-ecce2f7373fd",
   "metadata": {},
   "outputs": [],
   "source": [
    "vectorizer = TfidfVectorizer(ngram_range=(1, 3), max_df=0.5, min_df=50, max_features=1000)\n",
    "vectorizer.fit(train_texts)\n",
    "\n",
    "X_train = vectorizer.transform(train_texts)\n",
    "X_valid = vectorizer.transform(valid_texts)\n",
    "X_test = vectorizer.transform(test_texts)"
   ]
  },
  {
   "cell_type": "code",
   "execution_count": 15,
   "id": "40eb4e3d-dbe2-4850-b608-a7d76243e51d",
   "metadata": {},
   "outputs": [
    {
     "data": {
      "text/plain": [
       "(193325, 1000)"
      ]
     },
     "execution_count": 15,
     "metadata": {},
     "output_type": "execute_result"
    }
   ],
   "source": [
    "X_train.shape"
   ]
  },
  {
   "cell_type": "markdown",
   "id": "847d23af-6def-4c18-ac75-cb2184a6201d",
   "metadata": {},
   "source": [
    "## Train & Eval"
   ]
  },
  {
   "cell_type": "code",
   "execution_count": 16,
   "id": "80c92aaf-3345-4c5a-8920-79729ff58562",
   "metadata": {},
   "outputs": [
    {
     "name": "stderr",
     "output_type": "stream",
     "text": [
      "/Users/e.trufanova/.pyenv/versions/3.8.6/lib/python3.8/site-packages/lightgbm/sklearn.py:726: UserWarning: 'early_stopping_rounds' argument is deprecated and will be removed in a future release of LightGBM. Pass 'early_stopping()' callback via 'callbacks' argument instead.\n",
      "  _log_warning(\"'early_stopping_rounds' argument is deprecated and will be removed in a future release of LightGBM. \"\n",
      "/Users/e.trufanova/.pyenv/versions/3.8.6/lib/python3.8/site-packages/lightgbm/sklearn.py:736: UserWarning: 'verbose' argument is deprecated and will be removed in a future release of LightGBM. Pass 'log_evaluation()' callback via 'callbacks' argument instead.\n",
      "  _log_warning(\"'verbose' argument is deprecated and will be removed in a future release of LightGBM. \"\n"
     ]
    },
    {
     "name": "stdout",
     "output_type": "stream",
     "text": [
      "[50]\tvalid_0's multi_logloss: 1.35092\n",
      "[100]\tvalid_0's multi_logloss: 1.21192\n",
      "[150]\tvalid_0's multi_logloss: 1.16525\n",
      "[200]\tvalid_0's multi_logloss: 1.14457\n",
      "[250]\tvalid_0's multi_logloss: 1.13271\n",
      "[300]\tvalid_0's multi_logloss: 1.12595\n",
      "[350]\tvalid_0's multi_logloss: 1.12164\n",
      "[400]\tvalid_0's multi_logloss: 1.11919\n",
      "[450]\tvalid_0's multi_logloss: 1.11772\n",
      "[500]\tvalid_0's multi_logloss: 1.11716\n",
      "[550]\tvalid_0's multi_logloss: 1.11734\n"
     ]
    },
    {
     "data": {
      "text/html": [
       "<style>#sk-container-id-1 {color: black;background-color: white;}#sk-container-id-1 pre{padding: 0;}#sk-container-id-1 div.sk-toggleable {background-color: white;}#sk-container-id-1 label.sk-toggleable__label {cursor: pointer;display: block;width: 100%;margin-bottom: 0;padding: 0.3em;box-sizing: border-box;text-align: center;}#sk-container-id-1 label.sk-toggleable__label-arrow:before {content: \"▸\";float: left;margin-right: 0.25em;color: #696969;}#sk-container-id-1 label.sk-toggleable__label-arrow:hover:before {color: black;}#sk-container-id-1 div.sk-estimator:hover label.sk-toggleable__label-arrow:before {color: black;}#sk-container-id-1 div.sk-toggleable__content {max-height: 0;max-width: 0;overflow: hidden;text-align: left;background-color: #f0f8ff;}#sk-container-id-1 div.sk-toggleable__content pre {margin: 0.2em;color: black;border-radius: 0.25em;background-color: #f0f8ff;}#sk-container-id-1 input.sk-toggleable__control:checked~div.sk-toggleable__content {max-height: 200px;max-width: 100%;overflow: auto;}#sk-container-id-1 input.sk-toggleable__control:checked~label.sk-toggleable__label-arrow:before {content: \"▾\";}#sk-container-id-1 div.sk-estimator input.sk-toggleable__control:checked~label.sk-toggleable__label {background-color: #d4ebff;}#sk-container-id-1 div.sk-label input.sk-toggleable__control:checked~label.sk-toggleable__label {background-color: #d4ebff;}#sk-container-id-1 input.sk-hidden--visually {border: 0;clip: rect(1px 1px 1px 1px);clip: rect(1px, 1px, 1px, 1px);height: 1px;margin: -1px;overflow: hidden;padding: 0;position: absolute;width: 1px;}#sk-container-id-1 div.sk-estimator {font-family: monospace;background-color: #f0f8ff;border: 1px dotted black;border-radius: 0.25em;box-sizing: border-box;margin-bottom: 0.5em;}#sk-container-id-1 div.sk-estimator:hover {background-color: #d4ebff;}#sk-container-id-1 div.sk-parallel-item::after {content: \"\";width: 100%;border-bottom: 1px solid gray;flex-grow: 1;}#sk-container-id-1 div.sk-label:hover label.sk-toggleable__label {background-color: #d4ebff;}#sk-container-id-1 div.sk-serial::before {content: \"\";position: absolute;border-left: 1px solid gray;box-sizing: border-box;top: 0;bottom: 0;left: 50%;z-index: 0;}#sk-container-id-1 div.sk-serial {display: flex;flex-direction: column;align-items: center;background-color: white;padding-right: 0.2em;padding-left: 0.2em;position: relative;}#sk-container-id-1 div.sk-item {position: relative;z-index: 1;}#sk-container-id-1 div.sk-parallel {display: flex;align-items: stretch;justify-content: center;background-color: white;position: relative;}#sk-container-id-1 div.sk-item::before, #sk-container-id-1 div.sk-parallel-item::before {content: \"\";position: absolute;border-left: 1px solid gray;box-sizing: border-box;top: 0;bottom: 0;left: 50%;z-index: -1;}#sk-container-id-1 div.sk-parallel-item {display: flex;flex-direction: column;z-index: 1;position: relative;background-color: white;}#sk-container-id-1 div.sk-parallel-item:first-child::after {align-self: flex-end;width: 50%;}#sk-container-id-1 div.sk-parallel-item:last-child::after {align-self: flex-start;width: 50%;}#sk-container-id-1 div.sk-parallel-item:only-child::after {width: 0;}#sk-container-id-1 div.sk-dashed-wrapped {border: 1px dashed gray;margin: 0 0.4em 0.5em 0.4em;box-sizing: border-box;padding-bottom: 0.4em;background-color: white;}#sk-container-id-1 div.sk-label label {font-family: monospace;font-weight: bold;display: inline-block;line-height: 1.2em;}#sk-container-id-1 div.sk-label-container {text-align: center;}#sk-container-id-1 div.sk-container {/* jupyter's `normalize.less` sets `[hidden] { display: none; }` but bootstrap.min.css set `[hidden] { display: none !important; }` so we also need the `!important` here to be able to override the default hidden behavior on the sphinx rendered scikit-learn.org. See: https://github.com/scikit-learn/scikit-learn/issues/21755 */display: inline-block !important;position: relative;}#sk-container-id-1 div.sk-text-repr-fallback {display: none;}</style><div id=\"sk-container-id-1\" class=\"sk-top-container\"><div class=\"sk-text-repr-fallback\"><pre>LGBMClassifier(learning_rate=0.02, n_estimators=1000, objective=&#x27;multiclass&#x27;,\n",
       "               random_state=42)</pre><b>In a Jupyter environment, please rerun this cell to show the HTML representation or trust the notebook. <br />On GitHub, the HTML representation is unable to render, please try loading this page with nbviewer.org.</b></div><div class=\"sk-container\" hidden><div class=\"sk-item\"><div class=\"sk-estimator sk-toggleable\"><input class=\"sk-toggleable__control sk-hidden--visually\" id=\"sk-estimator-id-1\" type=\"checkbox\" checked><label for=\"sk-estimator-id-1\" class=\"sk-toggleable__label sk-toggleable__label-arrow\">LGBMClassifier</label><div class=\"sk-toggleable__content\"><pre>LGBMClassifier(learning_rate=0.02, n_estimators=1000, objective=&#x27;multiclass&#x27;,\n",
       "               random_state=42)</pre></div></div></div></div></div>"
      ],
      "text/plain": [
       "LGBMClassifier(learning_rate=0.02, n_estimators=1000, objective='multiclass',\n",
       "               random_state=42)"
      ]
     },
     "execution_count": 16,
     "metadata": {},
     "output_type": "execute_result"
    }
   ],
   "source": [
    "model = LGBMClassifier(n_estimators=1000, objective='multiclass', n_jobs=-1, random_state=42, learning_rate=0.02)\n",
    "\n",
    "model.fit(\n",
    "    X_train, \n",
    "    train_labels, \n",
    "    eval_metric='multi_logloss', \n",
    "    eval_set=[(X_valid, valid_labels)],\n",
    "    early_stopping_rounds=50, \n",
    "    verbose=50,\n",
    ")"
   ]
  },
  {
   "cell_type": "code",
   "execution_count": 18,
   "id": "05a4dcc1-f5cd-4836-8905-91ef9b3a84b0",
   "metadata": {},
   "outputs": [
    {
     "data": {
      "text/plain": [
       "0.6389011962782455"
      ]
     },
     "execution_count": 18,
     "metadata": {},
     "output_type": "execute_result"
    }
   ],
   "source": [
    "f1_score(test_labels, model.predict(X_test), average='micro')"
   ]
  },
  {
   "cell_type": "code",
   "execution_count": null,
   "id": "ce1fe267-6375-4e6e-89a8-9978b9a9eeeb",
   "metadata": {},
   "outputs": [],
   "source": []
  },
  {
   "cell_type": "code",
   "execution_count": null,
   "id": "5c61e82a-8f8a-4c8f-a1ea-c11072ec5508",
   "metadata": {},
   "outputs": [],
   "source": []
  }
 ],
 "metadata": {
  "kernelspec": {
   "display_name": "Python 3 (ipykernel)",
   "language": "python",
   "name": "python3"
  },
  "language_info": {
   "codemirror_mode": {
    "name": "ipython",
    "version": 3
   },
   "file_extension": ".py",
   "mimetype": "text/x-python",
   "name": "python",
   "nbconvert_exporter": "python",
   "pygments_lexer": "ipython3",
   "version": "3.8.6"
  }
 },
 "nbformat": 4,
 "nbformat_minor": 5
}
