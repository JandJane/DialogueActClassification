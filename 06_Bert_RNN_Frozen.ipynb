{
  "cells": [
    {
      "cell_type": "code",
      "source": [
        "!git clone --recurse-submodules https://github.com/JandJane/DialogueActClassification.git"
      ],
      "metadata": {
        "id": "241GWr_3JFfW"
      },
      "execution_count": null,
      "outputs": []
    },
    {
      "cell_type": "code",
      "source": [
        "!unzip DialogueActClassification/swda/swda.zip -d DialogueActClassification/swda/swda"
      ],
      "metadata": {
        "id": "YghEkjw2JJV9"
      },
      "execution_count": null,
      "outputs": []
    },
    {
      "cell_type": "code",
      "source": [
        "!pip install -r DialogueActClassification/requirements.txt"
      ],
      "metadata": {
        "id": "zDP_uwvBJNCr"
      },
      "execution_count": null,
      "outputs": []
    },
    {
      "cell_type": "code",
      "execution_count": 1,
      "metadata": {
        "id": "a1bj5Quj0zde"
      },
      "outputs": [],
      "source": [
        "%load_ext autoreload\n",
        "%autoreload 2"
      ]
    },
    {
      "cell_type": "code",
      "execution_count": 2,
      "metadata": {
        "id": "gNIW3ki_07Ix"
      },
      "outputs": [],
      "source": [
        "%matplotlib inline\n",
        "\n",
        "import matplotlib.pyplot as plt\n",
        "import numpy as np\n",
        "import pandas as pd\n",
        "import seaborn as sns\n",
        "import transformers\n",
        "import torch\n",
        "import torch.optim as optim\n",
        "from torch.nn.utils.rnn import pad_sequence\n",
        "from torch.utils.data import DataLoader\n",
        "from transformers import BertTokenizer\n",
        "from tqdm import tqdm\n",
        "\n",
        "import sys\n",
        "sys.path.append('DialogueActClassification')\n",
        "\n",
        "from dialogue_classification.dataset_utils import load_swda_corpus_data\n",
        "from dialogue_classification.dataset import BertDataset\n",
        "from dialogue_classification.models import DialogueNetBert\n",
        "from dialogue_classification.train_test_split import train_set_idx, valid_set_idx, test_set_idx\n",
        "from dialogue_classification.training import train_model"
      ]
    },
    {
      "cell_type": "markdown",
      "metadata": {
        "id": "E6SrBAMs1o7a"
      },
      "source": [
        "## Prepare data"
      ]
    },
    {
      "cell_type": "code",
      "execution_count": 3,
      "metadata": {
        "colab": {
          "base_uri": "https://localhost:8080/"
        },
        "id": "hbuKg3Qm1chv",
        "outputId": "d48e05d2-4ac2-4e7c-c0ff-95749bca24ab"
      },
      "outputs": [
        {
          "output_type": "stream",
          "name": "stdout",
          "text": [
            "Loading SwDA Corpus...\n",
            "\n",
            "Found 43 different utterance tags.\n",
            "\n",
            "Loaded SwDA Corpus.\n"
          ]
        }
      ],
      "source": [
        "talks, talk_names, tag_indices, tag_occurances = load_swda_corpus_data('DialogueActClassification/swda/swda/swda')"
      ]
    },
    {
      "cell_type": "code",
      "execution_count": 4,
      "metadata": {
        "colab": {
          "base_uri": "https://localhost:8080/"
        },
        "id": "lc6bTubM1mw-",
        "outputId": "c2336688-bb27-448f-9b21-6a7c279f837e"
      },
      "outputs": [
        {
          "output_type": "execute_result",
          "data": {
            "text/plain": [
              "(1155, 43)"
            ]
          },
          "metadata": {},
          "execution_count": 4
        }
      ],
      "source": [
        "len(talks), len(tag_indices)"
      ]
    },
    {
      "cell_type": "code",
      "execution_count": 5,
      "metadata": {
        "id": "S0Z-vN201qog"
      },
      "outputs": [],
      "source": [
        "texts, labels = [], []\n",
        "for text, label in talks:\n",
        "    assert len(text) == len(label)\n",
        "    text = [' '.join(utterance) for utterance in text]\n",
        "    texts.append(text)\n",
        "    labels.append(label)"
      ]
    },
    {
      "cell_type": "markdown",
      "metadata": {
        "id": "yMxa5LWu3N2y"
      },
      "source": [
        "## Bert Tokenize"
      ]
    },
    {
      "cell_type": "code",
      "execution_count": 6,
      "metadata": {
        "id": "dYSHNgFR4H3j"
      },
      "outputs": [],
      "source": [
        "max_length = 30"
      ]
    },
    {
      "cell_type": "code",
      "execution_count": 7,
      "metadata": {
        "id": "OVuCB4kDJDMD"
      },
      "outputs": [],
      "source": [
        "tokenizer = BertTokenizer.from_pretrained('bert-base-cased', do_lower_case=False, model_max_length=max_length)\n"
      ]
    },
    {
      "cell_type": "code",
      "execution_count": 8,
      "metadata": {
        "colab": {
          "base_uri": "https://localhost:8080/"
        },
        "id": "JS7ol_zCJDME",
        "outputId": "f32005e7-a75a-4dd9-d510-0901d3208225"
      },
      "outputs": [
        {
          "output_type": "stream",
          "name": "stderr",
          "text": [
            "100%|██████████| 1155/1155 [00:45<00:00, 25.56it/s]\n"
          ]
        }
      ],
      "source": [
        "input_ids, attention_masks = [], []\n",
        "for text in tqdm(texts):\n",
        "    encoded_input = tokenizer(text, padding=True, truncation=True, return_tensors='pt')\n",
        "    input_ids.append(encoded_input['input_ids'])\n",
        "    attention_masks.append(encoded_input['attention_mask'])    "
      ]
    },
    {
      "cell_type": "code",
      "execution_count": 9,
      "metadata": {
        "id": "fcaov4qJJDME"
      },
      "outputs": [],
      "source": [
        "for i in range(len(input_ids)):\n",
        "    if input_ids[i].size(1) < max_length:\n",
        "        padding_shape = (input_ids[i].size(0), max_length - input_ids[i].size(1))\n",
        "        input_ids[i] = torch.cat((input_ids[i], torch.zeros(padding_shape)), axis=1)\n",
        "        attention_masks[i] = torch.cat((attention_masks[i], torch.zeros(padding_shape)), axis=1)"
      ]
    },
    {
      "cell_type": "code",
      "execution_count": 10,
      "metadata": {
        "id": "h0QhPDb3JDME"
      },
      "outputs": [],
      "source": [
        "dialogue_lengths = [len(dialogue) for dialogue in input_ids]\n",
        "dialogue_lengths = torch.LongTensor(dialogue_lengths)\n",
        "\n",
        "input_ids = pad_sequence(input_ids, batch_first=True)\n",
        "attention_masks = pad_sequence(attention_masks, batch_first=True)\n",
        "\n",
        "labels = [torch.LongTensor(label) for label in labels]\n",
        "y = pad_sequence(labels, batch_first=True)"
      ]
    },
    {
      "cell_type": "code",
      "execution_count": 11,
      "metadata": {
        "colab": {
          "base_uri": "https://localhost:8080/"
        },
        "id": "jaxzFCD9JDME",
        "outputId": "e82207b4-4052-4600-f2d2-7235d649c552"
      },
      "outputs": [
        {
          "output_type": "execute_result",
          "data": {
            "text/plain": [
              "(torch.Size([1155]),\n",
              " torch.Size([1155, 540, 30]),\n",
              " torch.Size([1155, 540, 30]),\n",
              " torch.Size([1155, 540]))"
            ]
          },
          "metadata": {},
          "execution_count": 11
        }
      ],
      "source": [
        "dialogue_lengths.shape, input_ids.shape, attention_masks.shape, y.shape"
      ]
    },
    {
      "cell_type": "markdown",
      "metadata": {
        "id": "cxD-NDr9JDME"
      },
      "source": [
        "## Training"
      ]
    },
    {
      "cell_type": "code",
      "execution_count": 12,
      "metadata": {
        "id": "4ed2da7a-8ce0-4910-930b-8e1c656b2104"
      },
      "outputs": [],
      "source": [
        "train_idx = np.isin(talk_names, train_set_idx)\n",
        "valid_idx = np.isin(talk_names, valid_set_idx)\n",
        "test_idx = np.isin(talk_names, test_set_idx)"
      ]
    },
    {
      "cell_type": "code",
      "execution_count": 13,
      "metadata": {
        "id": "azEDjLX8JDME"
      },
      "outputs": [],
      "source": [
        "train_set = BertDataset(input_ids[train_idx], attention_masks[train_idx], dialogue_lengths[train_idx], y[train_idx])\n",
        "valid_set = BertDataset(input_ids[valid_idx], attention_masks[valid_idx], dialogue_lengths[valid_idx], y[valid_idx])\n",
        "test_set = BertDataset(input_ids[test_idx], attention_masks[test_idx], dialogue_lengths[test_idx], y[test_idx])"
      ]
    },
    {
      "cell_type": "code",
      "execution_count": 14,
      "metadata": {
        "id": "4-d79E1GJDME"
      },
      "outputs": [],
      "source": [
        "batch_size = 16\n",
        "\n",
        "train_loader = DataLoader(train_set, batch_size=batch_size, shuffle=True)\n",
        "valid_loader = DataLoader(valid_set, batch_size=batch_size, shuffle=False)\n",
        "test_loader = DataLoader(test_set, batch_size=batch_size, shuffle=False)"
      ]
    },
    {
      "cell_type": "code",
      "execution_count": 15,
      "metadata": {
        "colab": {
          "base_uri": "https://localhost:8080/"
        },
        "id": "RARktI1GJDME",
        "outputId": "8f685feb-6379-4abf-f092-4863fdfb9bc4"
      },
      "outputs": [
        {
          "output_type": "stream",
          "name": "stderr",
          "text": [
            "Some weights of the model checkpoint at bert-base-cased were not used when initializing BertModel: ['cls.predictions.transform.dense.weight', 'cls.predictions.bias', 'cls.predictions.transform.LayerNorm.bias', 'cls.predictions.transform.LayerNorm.weight', 'cls.predictions.transform.dense.bias', 'cls.seq_relationship.bias', 'cls.predictions.decoder.weight', 'cls.seq_relationship.weight']\n",
            "- This IS expected if you are initializing BertModel from the checkpoint of a model trained on another task or with another architecture (e.g. initializing a BertForSequenceClassification model from a BertForPreTraining model).\n",
            "- This IS NOT expected if you are initializing BertModel from the checkpoint of a model that you expect to be exactly identical (initializing a BertForSequenceClassification model from a BertForSequenceClassification model).\n"
          ]
        }
      ],
      "source": [
        "net = DialogueNetBert(\n",
        "    input_size=768, \n",
        "    output_size=len(tag_occurances), \n",
        "    rnn_hidden_size=128, \n",
        "    use_layer_norm=True, \n",
        "    max_utterance_len=max_length,\n",
        ")"
      ]
    },
    {
      "cell_type": "code",
      "execution_count": 16,
      "metadata": {
        "id": "X1zOzepNJDMF"
      },
      "outputs": [],
      "source": [
        "net.bert_embedder.freeze_bert()"
      ]
    },
    {
      "cell_type": "code",
      "execution_count": 17,
      "metadata": {
        "id": "DwZkrjiJJDMF"
      },
      "outputs": [],
      "source": [
        "optimizer = optim.Adam(net.parameters(), lr=0.001)"
      ]
    },
    {
      "cell_type": "code",
      "execution_count": 17,
      "metadata": {
        "colab": {
          "base_uri": "https://localhost:8080/",
          "height": 1000
        },
        "id": "Ayok6h0QJDMF",
        "outputId": "192f09c1-c818-4d8a-897d-fe8dd7fad1a1"
      },
      "outputs": [
        {
          "output_type": "stream",
          "name": "stdout",
          "text": [
            "[EPOCH 0] Train loss: 1.7491428227651686\n",
            "[EPOCH 0] Val loss: 1.15445876121521, F1-score: 0.653872786625779\n",
            "[EPOCH 0] Test loss: 1.2257573008537292, F1-score: 0.6216216216216216\n",
            "[EPOCH 1] Train loss: 1.009610288672977\n",
            "[EPOCH 1] Val loss: 0.8791885120528085, F1-score: 0.725492135720645\n",
            "[EPOCH 1] Test loss: 0.9328473210334778, F1-score: 0.6927337173238812\n",
            "[EPOCH 2] Train loss: 0.8614973454248338\n",
            "[EPOCH 2] Val loss: 0.7951192089489528, F1-score: 0.7458205559402512\n",
            "[EPOCH 2] Test loss: 0.828416496515274, F1-score: 0.7275143996455472\n",
            "[EPOCH 3] Train loss: 0.80193630381236\n",
            "[EPOCH 3] Val loss: 0.747081322329385, F1-score: 0.7587793055692946\n",
            "[EPOCH 3] Test loss: 0.7995831668376923, F1-score: 0.7381479840496233\n",
            "[EPOCH 4] Train loss: 0.7688183983167013\n",
            "[EPOCH 4] Val loss: 0.7331245456423078, F1-score: 0.7595706795924424\n",
            "[EPOCH 4] Test loss: 0.8124278485774994, F1-score: 0.7372618520159504\n",
            "[EPOCH 5] Train loss: 0.7426217936334156\n",
            "[EPOCH 5] Val loss: 0.7077139956610543, F1-score: 0.7685230982293006\n",
            "[EPOCH 5] Test loss: 0.7549590766429901, F1-score: 0.7487815684536996\n",
            "[EPOCH 6] Train loss: 0.72689008618158\n",
            "[EPOCH 6] Val loss: 0.6944261959620884, F1-score: 0.7711939855574239\n",
            "[EPOCH 6] Test loss: 0.7398978471755981, F1-score: 0.7545414266725742\n",
            "[EPOCH 7] Train loss: 0.7085363656755478\n",
            "[EPOCH 7] Val loss: 0.6959807787622724, F1-score: 0.7688693243644279\n",
            "[EPOCH 7] Test loss: 0.7678816914558411, F1-score: 0.7399202481169694\n",
            "[EPOCH 8] Train loss: 0.696525722269028\n",
            "[EPOCH 8] Val loss: 0.6785107254981995, F1-score: 0.7756949253140766\n",
            "[EPOCH 8] Test loss: 0.7521471381187439, F1-score: 0.7536552946389012\n",
            "[EPOCH 9] Train loss: 0.6808792447286939\n",
            "[EPOCH 9] Val loss: 0.6677100317818778, F1-score: 0.7773271342368185\n",
            "[EPOCH 9] Test loss: 0.7386502325534821, F1-score: 0.757864421798848\n",
            "[EPOCH 10] Train loss: 0.6759802216575259\n",
            "[EPOCH 10] Val loss: 0.6793920993804932, F1-score: 0.7759422296963101\n",
            "[EPOCH 10] Test loss: 0.7683604955673218, F1-score: 0.7494461674789543\n",
            "[EPOCH 11] Train loss: 0.6611282134812976\n",
            "[EPOCH 11] Val loss: 0.6591488718986511, F1-score: 0.7817786131170245\n",
            "[EPOCH 11] Test loss: 0.7178811728954315, F1-score: 0.7636242800177226\n",
            "[EPOCH 12] Train loss: 0.6501700603772723\n",
            "[EPOCH 12] Val loss: 0.6765007717268807, F1-score: 0.7760411514492037\n",
            "[EPOCH 12] Test loss: 0.7476963698863983, F1-score: 0.7591936198493574\n",
            "[EPOCH 13] Train loss: 0.6403270032670763\n",
            "Epoch 00014: reducing learning rate of group 0 to 1.0000e-04.\n",
            "[EPOCH 13] Val loss: 0.6737380112920489, F1-score: 0.7751013947967158\n",
            "[EPOCH 13] Test loss: 0.7329182326793671, F1-score: 0.7609658839167036\n",
            "[EPOCH 14] Train loss: 0.6208923591507806\n",
            "[EPOCH 14] Val loss: 0.6505760465349469, F1-score: 0.7843011178158077\n",
            "[EPOCH 14] Test loss: 0.7083963751792908, F1-score: 0.765618077093487\n",
            "[EPOCH 15] Train loss: 0.6144602942088294\n",
            "[EPOCH 15] Val loss: 0.6507014972823006, F1-score: 0.7838065090513404\n",
            "[EPOCH 15] Test loss: 0.7188740670681, F1-score: 0.7622950819672131\n",
            "[EPOCH 16] Train loss: 0.6128089437409053\n",
            "Epoch 00017: reducing learning rate of group 0 to 1.0000e-05.\n",
            "[EPOCH 16] Val loss: 0.6508575848170689, F1-score: 0.7837075872984469\n",
            "[EPOCH 16] Test loss: 0.716663271188736, F1-score: 0.7647319450598139\n",
            "[EPOCH 17] Train loss: 0.6114206389775352\n",
            "[EPOCH 17] Val loss: 0.6500189985547747, F1-score: 0.7834602829162133\n",
            "[EPOCH 17] Test loss: 0.7135302424430847, F1-score: 0.7647319450598139\n",
            "Early stopping\n"
          ]
        },
        {
          "output_type": "display_data",
          "data": {
            "text/plain": [
              "<Figure size 1800x500 with 2 Axes>"
            ],
            "image/png": "[encoded data removed]"
          },
          "metadata": {}
        }
      ],
      "source": [
        "train_model(net, train_loader, valid_loader, test_loader, optimizer,\n",
        "            bert_finetuning_epochs=0, n_epochs=100, verbose=True, plot=True)"
      ]
    },
    {
      "cell_type": "code",
      "source": [],
      "metadata": {
        "id": "n1Onh0tw6mq-"
      },
      "execution_count": null,
      "outputs": []
    }
  ],
  "metadata": {
    "colab": {
      "provenance": []
    },
    "kernelspec": {
      "display_name": "Python 3 (ipykernel)",
      "language": "python",
      "name": "python3"
    },
    "language_info": {
      "codemirror_mode": {
        "name": "ipython",
        "version": 3
      },
      "file_extension": ".py",
      "mimetype": "text/x-python",
      "name": "python",
      "nbconvert_exporter": "python",
      "pygments_lexer": "ipython3",
      "version": "3.8.6"
    },
    "accelerator": "GPU",
    "gpuClass": "premium"
  },
  "nbformat": 4,
  "nbformat_minor": 0
}