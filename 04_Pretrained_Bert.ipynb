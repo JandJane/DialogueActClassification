{
 "cells": [
  {
   "cell_type": "code",
   "execution_count": null,
   "id": "229dbe30-e80d-4a81-bf5d-7bbf3877c05b",
   "metadata": {
    "id": "229dbe30-e80d-4a81-bf5d-7bbf3877c05b"
   },
   "outputs": [],
   "source": [
    "!git clone --recurse-submodules https://github.com/JandJane/DialogueActClassification.git"
   ]
  },
  {
   "cell_type": "code",
   "execution_count": null,
   "id": "a569cbe8-99c6-4e59-bdd7-adff15492cfd",
   "metadata": {
    "id": "a569cbe8-99c6-4e59-bdd7-adff15492cfd"
   },
   "outputs": [],
   "source": [
    "!unzip DialogueActClassification/swda/swda.zip -d DialogueActClassification/swda/swda"
   ]
  },
  {
   "cell_type": "code",
   "execution_count": null,
   "id": "24992950-5321-43c6-ae2d-81c2149cff6c",
   "metadata": {
    "id": "24992950-5321-43c6-ae2d-81c2149cff6c"
   },
   "outputs": [],
   "source": [
    "!pip install -r DialogueActClassification/requirements.txt"
   ]
  },
  {
   "cell_type": "code",
   "execution_count": null,
   "id": "vx35kqfIxjDN",
   "metadata": {
    "id": "vx35kqfIxjDN"
   },
   "outputs": [],
   "source": [
    "!pip install torch transformers numpy==1.21.6"
   ]
  },
  {
   "cell_type": "code",
   "execution_count": null,
   "id": "cdfecde0-9d6d-4b14-8c39-05954ec903d2",
   "metadata": {
    "id": "cdfecde0-9d6d-4b14-8c39-05954ec903d2"
   },
   "outputs": [],
   "source": [
    "%load_ext autoreload\n",
    "%autoreload 2"
   ]
  },
  {
   "cell_type": "code",
   "execution_count": null,
   "id": "29def8be-f464-4c36-b30d-8eda8d90b51e",
   "metadata": {
    "id": "29def8be-f464-4c36-b30d-8eda8d90b51e"
   },
   "outputs": [],
   "source": [
    "%matplotlib inline\n",
    "\n",
    "import matplotlib.pyplot as plt\n",
    "import numpy as np\n",
    "import pandas as pd\n",
    "import seaborn as sns\n",
    "import torch\n",
    "from lightgbm import LGBMClassifier\n",
    "from sklearn.metrics import f1_score\n",
    "from transformers import BertTokenizer, BertModel\n",
    "from tqdm import tqdm\n",
    "\n",
    "import sys\n",
    "sys.path.append('DialogueActClassification')\n",
    "\n",
    "from dialogue_classification.dataset_utils import load_swda_corpus_data\n",
    "from dialogue_classification.train_test_split import train_set_idx, valid_set_idx, test_set_idx\n",
    "from dialogue_classification.config import device\n",
    "\n",
    "np.random.seed(42)\n",
    "torch.manual_seed(42)\n",
    "torch.cuda.manual_seed(42)"
   ]
  },
  {
   "cell_type": "markdown",
   "id": "74ea6344-977b-4d7b-ac94-4a5b12098ec4",
   "metadata": {
    "id": "74ea6344-977b-4d7b-ac94-4a5b12098ec4"
   },
   "source": [
    "## Prepare data"
   ]
  },
  {
   "cell_type": "code",
   "execution_count": null,
   "id": "115fb237-6150-47b5-bbd1-217c80ef3664",
   "metadata": {
    "colab": {
     "base_uri": "https://localhost:8080/"
    },
    "id": "115fb237-6150-47b5-bbd1-217c80ef3664",
    "outputId": "18c60d79-acf9-4d13-80aa-a5e1a5597c81"
   },
   "outputs": [
    {
     "name": "stdout",
     "output_type": "stream",
     "text": [
      "Loading SwDA Corpus...\n",
      "\n",
      "Found 43 different utterance tags.\n",
      "\n",
      "Loaded SwDA Corpus.\n"
     ]
    }
   ],
   "source": [
    "talks, talk_names, tag_indices, tag_occurances = load_swda_corpus_data('DialogueActClassification/swda/swda/swda')"
   ]
  },
  {
   "cell_type": "code",
   "execution_count": null,
   "id": "4e43504f-fb7f-4dbd-876c-824f1b02472b",
   "metadata": {
    "colab": {
     "base_uri": "https://localhost:8080/"
    },
    "id": "4e43504f-fb7f-4dbd-876c-824f1b02472b",
    "outputId": "42e3d27e-372c-4dd4-d79a-dfe49c7610ae"
   },
   "outputs": [
    {
     "data": {
      "text/plain": [
       "(1155, 43)"
      ]
     },
     "execution_count": 5,
     "metadata": {},
     "output_type": "execute_result"
    }
   ],
   "source": [
    "len(talks), len(tag_indices)"
   ]
  },
  {
   "cell_type": "code",
   "execution_count": null,
   "id": "5e2bb321-c94e-44bc-bbbc-2deaab0050dd",
   "metadata": {
    "id": "5e2bb321-c94e-44bc-bbbc-2deaab0050dd"
   },
   "outputs": [],
   "source": [
    "texts, labels = [], []\n",
    "for text, label in talks:\n",
    "    assert len(text) == len(label)\n",
    "    text = [' '.join(utterance) for utterance in text]\n",
    "    texts.append(text)\n",
    "    labels.append(label)"
   ]
  },
  {
   "cell_type": "code",
   "execution_count": null,
   "id": "4ed2da7a-8ce0-4910-930b-8e1c656b2104",
   "metadata": {
    "id": "4ed2da7a-8ce0-4910-930b-8e1c656b2104"
   },
   "outputs": [],
   "source": [
    "train_idx = np.isin(talk_names, train_set_idx)\n",
    "valid_idx = np.isin(talk_names, valid_set_idx)\n",
    "test_idx = np.isin(talk_names, test_set_idx)"
   ]
  },
  {
   "cell_type": "code",
   "execution_count": null,
   "id": "43035131-87d6-49f3-85e2-a0200d18b997",
   "metadata": {
    "colab": {
     "base_uri": "https://localhost:8080/"
    },
    "id": "43035131-87d6-49f3-85e2-a0200d18b997",
    "outputId": "e088d72c-251f-4fd6-b4e0-73dcf146a909"
   },
   "outputs": [
    {
     "name": "stderr",
     "output_type": "stream",
     "text": [
      "<ipython-input-8-2a54f57998b8>:1: VisibleDeprecationWarning: Creating an ndarray from ragged nested sequences (which is a list-or-tuple of lists-or-tuples-or ndarrays with different lengths or shapes) is deprecated. If you meant to do this, you must specify 'dtype=object' when creating the ndarray.\n",
      "  texts, labels = np.array(texts), np.array(labels)\n"
     ]
    }
   ],
   "source": [
    "texts, labels = np.array(texts), np.array(labels)\n",
    "\n",
    "train_texts, train_labels = texts[train_idx], labels[train_idx]\n",
    "valid_texts, valid_labels = texts[valid_idx], labels[valid_idx]\n",
    "test_texts, test_labels = texts[test_idx], labels[test_idx]"
   ]
  },
  {
   "cell_type": "code",
   "execution_count": null,
   "id": "aaa3fa3b-6fc5-4312-a411-6f5b2d8bf6e0",
   "metadata": {
    "colab": {
     "base_uri": "https://localhost:8080/"
    },
    "id": "aaa3fa3b-6fc5-4312-a411-6f5b2d8bf6e0",
    "outputId": "7656b303-4adf-4483-8d6d-997314c2f766"
   },
   "outputs": [
    {
     "data": {
      "text/plain": [
       "(1003, 112, 19)"
      ]
     },
     "execution_count": 9,
     "metadata": {},
     "output_type": "execute_result"
    }
   ],
   "source": [
    "len(train_texts), len(valid_texts), len(test_texts)"
   ]
  },
  {
   "cell_type": "code",
   "execution_count": null,
   "id": "016b7a6a-9703-4259-802f-6a6318b9249d",
   "metadata": {
    "id": "016b7a6a-9703-4259-802f-6a6318b9249d"
   },
   "outputs": [],
   "source": [
    "# flatten\n",
    "train_texts = sum(train_texts.tolist(), [])\n",
    "valid_texts = sum(valid_texts.tolist(), [])\n",
    "test_texts = sum(test_texts.tolist(), [])\n",
    "\n",
    "train_labels = np.array(sum(train_labels.tolist(), []))\n",
    "valid_labels = np.array(sum(valid_labels.tolist(), []))\n",
    "test_labels = np.array(sum(test_labels.tolist(), []))"
   ]
  },
  {
   "cell_type": "markdown",
   "id": "a8c18f0d-b914-4811-a571-0dfeb00a68fc",
   "metadata": {
    "id": "a8c18f0d-b914-4811-a571-0dfeb00a68fc"
   },
   "source": [
    "## Bert embeddings"
   ]
  },
  {
   "cell_type": "code",
   "execution_count": null,
   "id": "c5f17a0d-7e96-4564-b11e-2a2206aef998",
   "metadata": {
    "id": "c5f17a0d-7e96-4564-b11e-2a2206aef998"
   },
   "outputs": [],
   "source": [
    "tokenizer = BertTokenizer.from_pretrained('bert-base-cased', do_lower_case=False)"
   ]
  },
  {
   "cell_type": "code",
   "execution_count": null,
   "id": "gUFdk3r0S2PV",
   "metadata": {
    "colab": {
     "base_uri": "https://localhost:8080/"
    },
    "id": "gUFdk3r0S2PV",
    "outputId": "c39adcef-fe43-438c-db83-c649c9f8f36e"
   },
   "outputs": [
    {
     "name": "stdout",
     "output_type": "stream",
     "text": [
      "['<', 'B', '##reath', '##ing', '>', '.']\n"
     ]
    }
   ],
   "source": [
    "print(tokenizer.tokenize(train_texts[0]))"
   ]
  },
  {
   "cell_type": "code",
   "execution_count": null,
   "id": "j47toeeWRgQ6",
   "metadata": {
    "colab": {
     "base_uri": "https://localhost:8080/"
    },
    "id": "j47toeeWRgQ6",
    "outputId": "adad80f3-1df7-4de2-9c1f-360408fbe3c4"
   },
   "outputs": [
    {
     "name": "stderr",
     "output_type": "stream",
     "text": [
      "100%|██████████| 193325/193325 [01:32<00:00, 2085.77it/s]\n"
     ]
    }
   ],
   "source": [
    "n_tokens = []\n",
    "for text in tqdm(train_texts):\n",
    "    tokens = tokenizer.tokenize(text)\n",
    "    n_tokens.append(len(tokens))"
   ]
  },
  {
   "cell_type": "code",
   "execution_count": null,
   "id": "oDNtSAIJSZd4",
   "metadata": {
    "colab": {
     "base_uri": "https://localhost:8080/",
     "height": 605
    },
    "id": "oDNtSAIJSZd4",
    "outputId": "f398b992-3f37-41db-8854-55f76d8033be"
   },
   "outputs": [
    {
     "data": {
      "image/png": "[encoded data removed]",
      "text/plain": [
       "<Figure size 640x480 with 1 Axes>"
      ]
     },
     "metadata": {},
     "output_type": "display_data"
    },
    {
     "data": {
      "text/plain": [
       "count    193325.000000\n",
       "mean         10.147870\n",
       "std           8.805445\n",
       "min           0.000000\n",
       "25%           4.000000\n",
       "50%           8.000000\n",
       "75%          14.000000\n",
       "max         121.000000\n",
       "dtype: float64"
      ]
     },
     "execution_count": 22,
     "metadata": {},
     "output_type": "execute_result"
    }
   ],
   "source": [
    "n_tokens = pd.Series(n_tokens)\n",
    "\n",
    "sns.histplot(n_tokens, binwidth=1)\n",
    "plt.vlines(n_tokens.quantile(0.97), 0, 30_000, color='red', label='p97')\n",
    "plt.xlabel(\"# of tokens\")\n",
    "plt.legend()\n",
    "plt.show()\n",
    "\n",
    "n_tokens.describe()"
   ]
  },
  {
   "cell_type": "code",
   "execution_count": null,
   "id": "-ftRA1e8Sngi",
   "metadata": {
    "colab": {
     "base_uri": "https://localhost:8080/"
    },
    "id": "-ftRA1e8Sngi",
    "outputId": "1dbca355-6645-44d7-f083-5b8cca1fa6ba"
   },
   "outputs": [
    {
     "data": {
      "text/plain": [
       "32.0"
      ]
     },
     "execution_count": 23,
     "metadata": {},
     "output_type": "execute_result"
    }
   ],
   "source": [
    "n_tokens.quantile(0.97) # => max_length = 40"
   ]
  },
  {
   "cell_type": "code",
   "execution_count": null,
   "id": "HhBmbK72UHVX",
   "metadata": {
    "colab": {
     "base_uri": "https://localhost:8080/"
    },
    "id": "HhBmbK72UHVX",
    "outputId": "a8560a3c-ddb5-49e2-cdbd-64337ebb0af8"
   },
   "outputs": [
    {
     "name": "stdout",
     "output_type": "stream",
     "text": [
      "CPU times: user 49.8 s, sys: 421 ms, total: 50.2 s\n",
      "Wall time: 57.5 s\n"
     ]
    }
   ],
   "source": [
    "%%time\n",
    "\n",
    "max_length = 40\n",
    "\n",
    "train_tokenized = tokenizer(train_texts, padding=True, truncation=True, return_tensors='pt', max_length=max_length)\n",
    "valid_tokenized = tokenizer(valid_texts, padding=True, truncation=True, return_tensors='pt', max_length=max_length)\n",
    "test_tokenized = tokenizer(test_texts, padding=True, truncation=True, return_tensors='pt', max_length=max_length)"
   ]
  },
  {
   "cell_type": "code",
   "execution_count": null,
   "id": "3KdHaMmZUmEz",
   "metadata": {
    "colab": {
     "base_uri": "https://localhost:8080/"
    },
    "id": "3KdHaMmZUmEz",
    "outputId": "1c1e3383-8d8c-4354-ca4d-08bf4e1d3355"
   },
   "outputs": [
    {
     "name": "stderr",
     "output_type": "stream",
     "text": [
      "Some weights of the model checkpoint at bert-base-cased were not used when initializing BertModel: ['cls.seq_relationship.weight', 'cls.seq_relationship.bias', 'cls.predictions.transform.dense.weight', 'cls.predictions.transform.dense.bias', 'cls.predictions.transform.LayerNorm.bias', 'cls.predictions.decoder.weight', 'cls.predictions.transform.LayerNorm.weight', 'cls.predictions.bias']\n",
      "- This IS expected if you are initializing BertModel from the checkpoint of a model trained on another task or with another architecture (e.g. initializing a BertForSequenceClassification model from a BertForPreTraining model).\n",
      "- This IS NOT expected if you are initializing BertModel from the checkpoint of a model that you expect to be exactly identical (initializing a BertForSequenceClassification model from a BertForSequenceClassification model).\n"
     ]
    }
   ],
   "source": [
    "bert_model = BertModel.from_pretrained('bert-base-cased', output_hidden_states=False)\n",
    "bert_model.to(device)\n",
    "bert_model.eval();"
   ]
  },
  {
   "cell_type": "code",
   "execution_count": null,
   "id": "aN10CIXv0PgR",
   "metadata": {
    "colab": {
     "base_uri": "https://localhost:8080/"
    },
    "id": "aN10CIXv0PgR",
    "outputId": "6bdc5cf1-ac6d-40d9-e0fa-486cf3e77fa1"
   },
   "outputs": [
    {
     "name": "stderr",
     "output_type": "stream",
     "text": [
      "100%|██████████| 48/48 [07:14<00:00,  9.06s/it]\n",
      "100%|██████████| 5/5 [00:47<00:00,  9.51s/it]\n",
      "100%|██████████| 2/2 [00:10<00:00,  5.28s/it]\n"
     ]
    }
   ],
   "source": [
    "def get_bert_embeddings(tokenized, device=device, batch_size=4096):\n",
    "  res = []\n",
    "  with torch.no_grad():\n",
    "    for i in tqdm(range(0, len(tokenized['input_ids']), batch_size)):\n",
    "      input_ids = tokenized['input_ids'][i:i + batch_size].to(device)\n",
    "      attention_mask = tokenized['attention_mask'][i:i + batch_size].to(device)\n",
    "      output = bert_model(input_ids=input_ids, attention_mask=attention_mask).pooler_output\n",
    "      res.append(output.detach().cpu().numpy())\n",
    "  res = np.concatenate(res)\n",
    "  return res\n",
    "\n",
    "X_train = get_bert_embeddings(train_tokenized)\n",
    "X_valid = get_bert_embeddings(valid_tokenized)\n",
    "X_test = get_bert_embeddings(test_tokenized)"
   ]
  },
  {
   "cell_type": "code",
   "execution_count": null,
   "id": "y_XZch01YYfq",
   "metadata": {
    "colab": {
     "base_uri": "https://localhost:8080/"
    },
    "id": "y_XZch01YYfq",
    "outputId": "f3aaf8ff-f417-42c3-adb8-786f67b8513e"
   },
   "outputs": [
    {
     "data": {
      "text/plain": [
       "(193325, 768)"
      ]
     },
     "execution_count": 26,
     "metadata": {},
     "output_type": "execute_result"
    }
   ],
   "source": [
    "# res.pooler_output.shape, res.last_hidden_state.shape\n",
    "X_train.shape"
   ]
  },
  {
   "cell_type": "markdown",
   "id": "bf1f71ca-e2e7-4836-a24d-9c79716f19dc",
   "metadata": {
    "id": "bf1f71ca-e2e7-4836-a24d-9c79716f19dc"
   },
   "source": [
    "## Train & Eval"
   ]
  },
  {
   "cell_type": "code",
   "execution_count": null,
   "id": "9e1df64e-9211-460b-b3de-f4735f0deee1",
   "metadata": {
    "colab": {
     "base_uri": "https://localhost:8080/",
     "height": 320
    },
    "id": "9e1df64e-9211-460b-b3de-f4735f0deee1",
    "outputId": "423dc109-f3ed-49f9-e0f9-cc69aee7c4c1"
   },
   "outputs": [
    {
     "name": "stderr",
     "output_type": "stream",
     "text": [
      "/usr/local/lib/python3.9/dist-packages/lightgbm/sklearn.py:726: UserWarning: 'early_stopping_rounds' argument is deprecated and will be removed in a future release of LightGBM. Pass 'early_stopping()' callback via 'callbacks' argument instead.\n",
      "  _log_warning(\"'early_stopping_rounds' argument is deprecated and will be removed in a future release of LightGBM. \"\n",
      "/usr/local/lib/python3.9/dist-packages/lightgbm/sklearn.py:736: UserWarning: 'verbose' argument is deprecated and will be removed in a future release of LightGBM. Pass 'log_evaluation()' callback via 'callbacks' argument instead.\n",
      "  _log_warning(\"'verbose' argument is deprecated and will be removed in a future release of LightGBM. \"\n"
     ]
    },
    {
     "name": "stdout",
     "output_type": "stream",
     "text": [
      "[50]\tvalid_0's multi_logloss: 1.29468\n",
      "[100]\tvalid_0's multi_logloss: 1.13219\n",
      "[150]\tvalid_0's multi_logloss: 1.09984\n",
      "[200]\tvalid_0's multi_logloss: 1.06644\n",
      "[250]\tvalid_0's multi_logloss: 1.05861\n",
      "[300]\tvalid_0's multi_logloss: 1.04902\n",
      "[350]\tvalid_0's multi_logloss: 1.04612\n",
      "[400]\tvalid_0's multi_logloss: 1.05063\n"
     ]
    },
    {
     "data": {
      "text/html": [
       "<style>#sk-container-id-1 {color: black;background-color: white;}#sk-container-id-1 pre{padding: 0;}#sk-container-id-1 div.sk-toggleable {background-color: white;}#sk-container-id-1 label.sk-toggleable__label {cursor: pointer;display: block;width: 100%;margin-bottom: 0;padding: 0.3em;box-sizing: border-box;text-align: center;}#sk-container-id-1 label.sk-toggleable__label-arrow:before {content: \"▸\";float: left;margin-right: 0.25em;color: #696969;}#sk-container-id-1 label.sk-toggleable__label-arrow:hover:before {color: black;}#sk-container-id-1 div.sk-estimator:hover label.sk-toggleable__label-arrow:before {color: black;}#sk-container-id-1 div.sk-toggleable__content {max-height: 0;max-width: 0;overflow: hidden;text-align: left;background-color: #f0f8ff;}#sk-container-id-1 div.sk-toggleable__content pre {margin: 0.2em;color: black;border-radius: 0.25em;background-color: #f0f8ff;}#sk-container-id-1 input.sk-toggleable__control:checked~div.sk-toggleable__content {max-height: 200px;max-width: 100%;overflow: auto;}#sk-container-id-1 input.sk-toggleable__control:checked~label.sk-toggleable__label-arrow:before {content: \"▾\";}#sk-container-id-1 div.sk-estimator input.sk-toggleable__control:checked~label.sk-toggleable__label {background-color: #d4ebff;}#sk-container-id-1 div.sk-label input.sk-toggleable__control:checked~label.sk-toggleable__label {background-color: #d4ebff;}#sk-container-id-1 input.sk-hidden--visually {border: 0;clip: rect(1px 1px 1px 1px);clip: rect(1px, 1px, 1px, 1px);height: 1px;margin: -1px;overflow: hidden;padding: 0;position: absolute;width: 1px;}#sk-container-id-1 div.sk-estimator {font-family: monospace;background-color: #f0f8ff;border: 1px dotted black;border-radius: 0.25em;box-sizing: border-box;margin-bottom: 0.5em;}#sk-container-id-1 div.sk-estimator:hover {background-color: #d4ebff;}#sk-container-id-1 div.sk-parallel-item::after {content: \"\";width: 100%;border-bottom: 1px solid gray;flex-grow: 1;}#sk-container-id-1 div.sk-label:hover label.sk-toggleable__label {background-color: #d4ebff;}#sk-container-id-1 div.sk-serial::before {content: \"\";position: absolute;border-left: 1px solid gray;box-sizing: border-box;top: 0;bottom: 0;left: 50%;z-index: 0;}#sk-container-id-1 div.sk-serial {display: flex;flex-direction: column;align-items: center;background-color: white;padding-right: 0.2em;padding-left: 0.2em;position: relative;}#sk-container-id-1 div.sk-item {position: relative;z-index: 1;}#sk-container-id-1 div.sk-parallel {display: flex;align-items: stretch;justify-content: center;background-color: white;position: relative;}#sk-container-id-1 div.sk-item::before, #sk-container-id-1 div.sk-parallel-item::before {content: \"\";position: absolute;border-left: 1px solid gray;box-sizing: border-box;top: 0;bottom: 0;left: 50%;z-index: -1;}#sk-container-id-1 div.sk-parallel-item {display: flex;flex-direction: column;z-index: 1;position: relative;background-color: white;}#sk-container-id-1 div.sk-parallel-item:first-child::after {align-self: flex-end;width: 50%;}#sk-container-id-1 div.sk-parallel-item:last-child::after {align-self: flex-start;width: 50%;}#sk-container-id-1 div.sk-parallel-item:only-child::after {width: 0;}#sk-container-id-1 div.sk-dashed-wrapped {border: 1px dashed gray;margin: 0 0.4em 0.5em 0.4em;box-sizing: border-box;padding-bottom: 0.4em;background-color: white;}#sk-container-id-1 div.sk-label label {font-family: monospace;font-weight: bold;display: inline-block;line-height: 1.2em;}#sk-container-id-1 div.sk-label-container {text-align: center;}#sk-container-id-1 div.sk-container {/* jupyter's `normalize.less` sets `[hidden] { display: none; }` but bootstrap.min.css set `[hidden] { display: none !important; }` so we also need the `!important` here to be able to override the default hidden behavior on the sphinx rendered scikit-learn.org. See: https://github.com/scikit-learn/scikit-learn/issues/21755 */display: inline-block !important;position: relative;}#sk-container-id-1 div.sk-text-repr-fallback {display: none;}</style><div id=\"sk-container-id-1\" class=\"sk-top-container\"><div class=\"sk-text-repr-fallback\"><pre>LGBMClassifier(learning_rate=0.02, n_estimators=1000, objective=&#x27;multiclass&#x27;,\n",
       "               random_state=42)</pre><b>In a Jupyter environment, please rerun this cell to show the HTML representation or trust the notebook. <br />On GitHub, the HTML representation is unable to render, please try loading this page with nbviewer.org.</b></div><div class=\"sk-container\" hidden><div class=\"sk-item\"><div class=\"sk-estimator sk-toggleable\"><input class=\"sk-toggleable__control sk-hidden--visually\" id=\"sk-estimator-id-1\" type=\"checkbox\" checked><label for=\"sk-estimator-id-1\" class=\"sk-toggleable__label sk-toggleable__label-arrow\">LGBMClassifier</label><div class=\"sk-toggleable__content\"><pre>LGBMClassifier(learning_rate=0.02, n_estimators=1000, objective=&#x27;multiclass&#x27;,\n",
       "               random_state=42)</pre></div></div></div></div></div>"
      ],
      "text/plain": [
       "LGBMClassifier(learning_rate=0.02, n_estimators=1000, objective='multiclass',\n",
       "               random_state=42)"
      ]
     },
     "execution_count": 27,
     "metadata": {},
     "output_type": "execute_result"
    }
   ],
   "source": [
    "model = LGBMClassifier(n_estimators=1000, objective='multiclass', n_jobs=-1, random_state=42, learning_rate=0.02)\n",
    "\n",
    "model.fit(\n",
    "    X_train, \n",
    "    train_labels, \n",
    "    eval_metric='multi_logloss', \n",
    "    eval_set=[(X_valid, valid_labels)],\n",
    "    early_stopping_rounds=50, \n",
    "    verbose=50,\n",
    ")"
   ]
  },
  {
   "cell_type": "code",
   "execution_count": null,
   "id": "9fe5d606-b301-4654-92b5-f1ab2b4a33aa",
   "metadata": {
    "colab": {
     "base_uri": "https://localhost:8080/"
    },
    "id": "9fe5d606-b301-4654-92b5-f1ab2b4a33aa",
    "outputId": "7f5bdec0-2215-4f41-ebc9-aca0a6a318c0"
   },
   "outputs": [
    {
     "data": {
      "text/plain": [
       "0.6661497563136908"
      ]
     },
     "execution_count": 28,
     "metadata": {},
     "output_type": "execute_result"
    }
   ],
   "source": [
    "f1_score(test_labels, model.predict(X_test), average='micro')"
   ]
  },
  {
   "cell_type": "code",
   "execution_count": null,
   "id": "82503ffb-4004-499b-89e6-6238522375b8",
   "metadata": {
    "colab": {
     "base_uri": "https://localhost:8080/"
    },
    "id": "82503ffb-4004-499b-89e6-6238522375b8",
    "outputId": "21bea07e-8330-4a7a-84c8-89d97bb5d4ad"
   },
   "outputs": [
    {
     "data": {
      "text/plain": [
       "0.37648967663955035"
      ]
     },
     "execution_count": 29,
     "metadata": {},
     "output_type": "execute_result"
    }
   ],
   "source": [
    "f1_score(test_labels, model.predict(X_test), average='macro')"
   ]
  },
  {
   "cell_type": "code",
   "execution_count": null,
   "id": "fa740ef4-86a6-4b3b-8ad9-0cc18a622c44",
   "metadata": {
    "colab": {
     "base_uri": "https://localhost:8080/"
    },
    "id": "fa740ef4-86a6-4b3b-8ad9-0cc18a622c44",
    "outputId": "3f1f46e0-d3dc-4f80-fd81-4900997ab60d"
   },
   "outputs": [
    {
     "data": {
      "text/plain": [
       "0.6360748022214393"
      ]
     },
     "execution_count": 30,
     "metadata": {},
     "output_type": "execute_result"
    }
   ],
   "source": [
    "f1_score(test_labels, model.predict(X_test), average='weighted')"
   ]
  },
  {
   "cell_type": "code",
   "execution_count": null,
   "id": "XwAGmoxAZUdk",
   "metadata": {
    "id": "XwAGmoxAZUdk"
   },
   "outputs": [],
   "source": []
  }
 ],
 "metadata": {
  "accelerator": "GPU",
  "colab": {
   "provenance": []
  },
  "gpuClass": "standard",
  "kernelspec": {
   "display_name": "Python 3 (ipykernel)",
   "language": "python",
   "name": "python3"
  },
  "language_info": {
   "codemirror_mode": {
    "name": "ipython",
    "version": 3
   },
   "file_extension": ".py",
   "mimetype": "text/x-python",
   "name": "python",
   "nbconvert_exporter": "python",
   "pygments_lexer": "ipython3",
   "version": "3.8.6"
  }
 },
 "nbformat": 4,
 "nbformat_minor": 5
}
