{
 "cells": [
  {
   "cell_type": "code",
   "execution_count": null,
   "metadata": {
    "id": "TUZxuDpO0WUi"
   },
   "outputs": [],
   "source": [
    "!pip install nltk>=3.0 numpy==1.21.6 matplotlib torch fasttext scikit-learn~=0.24.2"
   ]
  },
  {
   "cell_type": "code",
   "execution_count": 1,
   "metadata": {
    "id": "a1bj5Quj0zde"
   },
   "outputs": [],
   "source": [
    "%load_ext autoreload\n",
    "%autoreload 2"
   ]
  },
  {
   "cell_type": "code",
   "execution_count": 2,
   "metadata": {
    "id": "gNIW3ki_07Ix"
   },
   "outputs": [
    {
     "name": "stderr",
     "output_type": "stream",
     "text": [
      "/Users/e.trufanova/.pyenv/versions/3.8.6/lib/python3.8/site-packages/tqdm/auto.py:22: TqdmWarning: IProgress not found. Please update jupyter and ipywidgets. See https://ipywidgets.readthedocs.io/en/stable/user_install.html\n",
      "  from .autonotebook import tqdm as notebook_tqdm\n"
     ]
    }
   ],
   "source": [
    "%matplotlib inline\n",
    "\n",
    "import matplotlib.pyplot as plt\n",
    "import numpy as np\n",
    "import pandas as pd\n",
    "import seaborn as sns\n",
    "import fasttext\n",
    "import torch\n",
    "import torch.optim as optim\n",
    "from torch.nn.utils.rnn import pad_sequence\n",
    "from torch.utils.data import DataLoader\n",
    "from tqdm import tqdm\n",
    "\n",
    "import sys\n",
    "sys.path.append('DialogueActClassification')\n",
    "\n",
    "from dialogue_classification.dataset_utils import load_swda_corpus_data\n",
    "from dialogue_classification.dataset import FasttextDataset\n",
    "from dialogue_classification.models import DialogueNetFasttext\n",
    "from dialogue_classification.train_test_split import train_set_idx, valid_set_idx, test_set_idx\n",
    "from dialogue_classification.training import train_model"
   ]
  },
  {
   "cell_type": "code",
   "execution_count": 3,
   "metadata": {
    "id": "j_9mFuuc23oY"
   },
   "outputs": [],
   "source": [
    "!wget https://dl.fbaipublicfiles.com/fasttext/vectors-crawl/cc.en.300.bin.gz"
   ]
  },
  {
   "cell_type": "code",
   "execution_count": 4,
   "metadata": {
    "id": "0mVvHYJp2479"
   },
   "outputs": [],
   "source": [
    "!gzip -dk cc.en.300.bin.gz"
   ]
  },
  {
   "cell_type": "markdown",
   "metadata": {
    "id": "E6SrBAMs1o7a"
   },
   "source": [
    "## Prepare data"
   ]
  },
  {
   "cell_type": "code",
   "execution_count": 3,
   "metadata": {
    "colab": {
     "base_uri": "https://localhost:8080/"
    },
    "id": "hbuKg3Qm1chv",
    "outputId": "446eae9c-841c-4265-ceec-95dbb118c146"
   },
   "outputs": [
    {
     "name": "stdout",
     "output_type": "stream",
     "text": [
      "Loading SwDA Corpus...\n",
      "\n",
      "Found 43 different utterance tags.\n",
      "\n",
      "Loaded SwDA Corpus.\n"
     ]
    }
   ],
   "source": [
    "talks, talk_names, tag_indices, tag_occurances = load_swda_corpus_data('swda/swda/swda')"
   ]
  },
  {
   "cell_type": "code",
   "execution_count": 4,
   "metadata": {
    "colab": {
     "base_uri": "https://localhost:8080/"
    },
    "id": "lc6bTubM1mw-",
    "outputId": "4ba01153-bcc0-49f9-81dd-ce2dbe2d517a"
   },
   "outputs": [
    {
     "data": {
      "text/plain": [
       "(1155, 43)"
      ]
     },
     "execution_count": 4,
     "metadata": {},
     "output_type": "execute_result"
    }
   ],
   "source": [
    "len(talks), len(tag_indices)"
   ]
  },
  {
   "cell_type": "code",
   "execution_count": 5,
   "metadata": {
    "id": "kOpRJxOt2_9v"
   },
   "outputs": [],
   "source": [
    "import re\n",
    "\n",
    "def preprocess(text):\n",
    "    text = text.lower()\n",
    "    text = re.sub(\"[,']+\", '', text)\n",
    "    text = re.sub('\\.', ' . ', text)\n",
    "    text = re.sub('\\?', ' ? ', text)\n",
    "    text = re.sub('!', ' ! ', text)\n",
    "    text = re.sub('\\s+', ' ', text)\n",
    "    return text"
   ]
  },
  {
   "cell_type": "code",
   "execution_count": 6,
   "metadata": {
    "id": "S0Z-vN201qog"
   },
   "outputs": [],
   "source": [
    "texts, labels = [], []\n",
    "for text, label in talks:\n",
    "    assert len(text) == len(label)\n",
    "    text = [' '.join(utterance) for utterance in text]\n",
    "    texts.append(text)\n",
    "    labels.append(label)"
   ]
  },
  {
   "cell_type": "code",
   "execution_count": 7,
   "metadata": {
    "id": "8oBi3tge3C6S"
   },
   "outputs": [],
   "source": [
    "texts = [[preprocess(utt) for utt in text] for text in texts]"
   ]
  },
  {
   "cell_type": "code",
   "execution_count": 8,
   "metadata": {
    "colab": {
     "base_uri": "https://localhost:8080/",
     "height": 610
    },
    "id": "p8ai7FTJ1zfh",
    "outputId": "94c125d4-1672-4cc2-c229-502f1fb8a5e3"
   },
   "outputs": [
    {
     "data": {
      "image/png": "[encoded data removed]",
      "text/plain": [
       "<Figure size 640x480 with 1 Axes>"
      ]
     },
     "metadata": {},
     "output_type": "display_data"
    },
    {
     "data": {
      "text/plain": [
       "count    221616.000000\n",
       "mean          7.634850\n",
       "std           6.896954\n",
       "min           0.000000\n",
       "25%           2.000000\n",
       "50%           6.000000\n",
       "75%          10.000000\n",
       "max          80.000000\n",
       "dtype: float64"
      ]
     },
     "execution_count": 8,
     "metadata": {},
     "output_type": "execute_result"
    }
   ],
   "source": [
    "utterance_lens = [len(utterance.split()) for utterance in sum(texts, [])]\n",
    "utterance_lens = pd.Series(utterance_lens)\n",
    "\n",
    "sns.histplot(utterance_lens, binwidth=1)\n",
    "plt.vlines(utterance_lens.quantile(0.97), 0, 50_000, color='red', label='p97')\n",
    "plt.xlabel(\"Utterance length (# of words)\")\n",
    "plt.legend()\n",
    "plt.show()\n",
    "\n",
    "utterance_lens.describe()"
   ]
  },
  {
   "cell_type": "code",
   "execution_count": 9,
   "metadata": {
    "colab": {
     "base_uri": "https://localhost:8080/"
    },
    "id": "17_MNNNw2fmI",
    "outputId": "ca652447-8b56-40cc-e452-c01089e82270"
   },
   "outputs": [
    {
     "data": {
      "text/plain": [
       "25.0"
      ]
     },
     "execution_count": 9,
     "metadata": {},
     "output_type": "execute_result"
    }
   ],
   "source": [
    "utterance_lens.quantile(0.97) # => max_length = 30"
   ]
  },
  {
   "cell_type": "code",
   "execution_count": 10,
   "metadata": {
    "id": "dYSHNgFR4H3j"
   },
   "outputs": [],
   "source": [
    "max_length = 30"
   ]
  },
  {
   "cell_type": "code",
   "execution_count": 11,
   "metadata": {
    "id": "nv523VRq3F-E"
   },
   "outputs": [],
   "source": [
    "train_idx = np.isin(talk_names, train_set_idx)\n",
    "valid_idx = np.isin(talk_names, valid_set_idx)\n",
    "test_idx = np.isin(talk_names, test_set_idx)"
   ]
  },
  {
   "cell_type": "code",
   "execution_count": 12,
   "metadata": {
    "colab": {
     "base_uri": "https://localhost:8080/"
    },
    "id": "XESytZMk3Kgc",
    "outputId": "4a86eefb-1a1f-4bd2-b07b-7d186610b526"
   },
   "outputs": [
    {
     "name": "stderr",
     "output_type": "stream",
     "text": [
      "/var/folders/pk/0hw9m8496w7gxnl1pfsssfdddh310s/T/ipykernel_76048/1925198038.py:1: VisibleDeprecationWarning: Creating an ndarray from ragged nested sequences (which is a list-or-tuple of lists-or-tuples-or ndarrays with different lengths or shapes) is deprecated. If you meant to do this, you must specify 'dtype=object' when creating the ndarray.\n",
      "  texts, labels = np.array(texts), np.array(labels)\n"
     ]
    }
   ],
   "source": [
    "texts, labels = np.array(texts), np.array(labels)\n",
    "\n",
    "train_texts, train_labels = texts[train_idx], labels[train_idx]\n",
    "valid_texts, valid_labels = texts[valid_idx], labels[valid_idx]\n",
    "test_texts, test_labels = texts[test_idx], labels[test_idx]"
   ]
  },
  {
   "cell_type": "code",
   "execution_count": 13,
   "metadata": {
    "id": "zUs18wu8EsXo"
   },
   "outputs": [],
   "source": [
    "del texts, labels, talks"
   ]
  },
  {
   "cell_type": "markdown",
   "metadata": {
    "id": "yMxa5LWu3N2y"
   },
   "source": [
    "## Fasttext embeddings"
   ]
  },
  {
   "cell_type": "code",
   "execution_count": 14,
   "metadata": {
    "colab": {
     "base_uri": "https://localhost:8080/"
    },
    "id": "6nxjLWy43Q1p",
    "outputId": "ee6994fe-6176-4275-814c-4b1b0ff2033f"
   },
   "outputs": [
    {
     "name": "stderr",
     "output_type": "stream",
     "text": [
      "Warning : `load_model` does not return WordVectorModel or SupervisedModel any more, but a `FastText` object which is very similar.\n"
     ]
    }
   ],
   "source": [
    "fasttext_model = fasttext.load_model(\"cc.en.300.bin\")"
   ]
  },
  {
   "cell_type": "code",
   "execution_count": 15,
   "metadata": {
    "id": "u0bjDuit3SHr"
   },
   "outputs": [],
   "source": [
    "EPS = 1e-5\n",
    "\n",
    "def l2_norm(vector):\n",
    "    return vector / (np.linalg.norm(vector) + EPS)\n",
    "\n",
    "\n",
    "def get_fasttext_embeddings(texts):\n",
    "    fasttext_embs = []\n",
    "    for text in tqdm(texts):\n",
    "        utterance_embs = [] \n",
    "        for utterance in text:\n",
    "            if not utterance.split():\n",
    "                embs = torch.Tensor(0, fasttext_model.get_dimension())\n",
    "            else:\n",
    "                embs = torch.Tensor(\n",
    "                    np.stack([\n",
    "                      l2_norm(fasttext_model.get_word_vector(word))\n",
    "                      for word in utterance.split()\n",
    "                    ])\n",
    "                  )\n",
    "            if len(embs) > max_length:\n",
    "                embs = embs[:max_length]\n",
    "            if len(embs) < max_length:\n",
    "                padding_shape = (max_length - len(embs), fasttext_model.get_dimension())\n",
    "                embs = torch.cat((torch.zeros(padding_shape), embs), axis=0)\n",
    "            utterance_embs.append(embs)\n",
    "        fasttext_embs.append(torch.stack(utterance_embs))\n",
    "\n",
    "    dialogue_lengths = [len(dialogue) for dialogue in fasttext_embs]\n",
    "    dialogue_lengths = torch.LongTensor(dialogue_lengths)\n",
    "\n",
    "    fasttext_embs = pad_sequence(fasttext_embs, batch_first=True)\n",
    "\n",
    "    return fasttext_embs, dialogue_lengths"
   ]
  },
  {
   "cell_type": "code",
   "execution_count": 16,
   "metadata": {
    "colab": {
     "base_uri": "https://localhost:8080/"
    },
    "id": "l-21uddSBPSX",
    "outputId": "540eb5e0-b0ad-4a27-c00f-73457e2d1dbc"
   },
   "outputs": [
    {
     "name": "stderr",
     "output_type": "stream",
     "text": [
      "100%|█████████████████████████████████████████████████████████████████████████████████████████████████████████████████████████████████████████████████████████████████████████████████| 19/19 [00:00<00:00, 44.46it/s]\n",
      "100%|███████████████████████████████████████████████████████████████████████████████████████████████████████████████████████████████████████████████████████████████████████████████| 112/112 [00:01<00:00, 68.37it/s]\n",
      "100%|█████████████████████████████████████████████████████████████████████████████████████████████████████████████████████████████████████████████████████████████████████████████| 1003/1003 [00:15<00:00, 65.25it/s]\n"
     ]
    },
    {
     "data": {
      "text/plain": [
       "(torch.Size([1003, 540, 30, 300]),\n",
       " torch.Size([112, 394, 30, 300]),\n",
       " torch.Size([19, 388, 30, 300]))"
      ]
     },
     "execution_count": 16,
     "metadata": {},
     "output_type": "execute_result"
    }
   ],
   "source": [
    "test_embs, test_lengts = get_fasttext_embeddings(test_texts)\n",
    "valid_embs, valid_lengts = get_fasttext_embeddings(valid_texts)\n",
    "train_embs, train_lengts = get_fasttext_embeddings(train_texts)\n",
    "\n",
    "train_embs.size(), valid_embs.size(), test_embs.size()"
   ]
  },
  {
   "cell_type": "code",
   "execution_count": 17,
   "metadata": {
    "colab": {
     "base_uri": "https://localhost:8080/"
    },
    "id": "I8hFxCcWD2Ge",
    "outputId": "4a6091d4-1408-45cd-8b2a-645cb0688b35"
   },
   "outputs": [],
   "source": [
    "del fasttext_model"
   ]
  },
  {
   "cell_type": "markdown",
   "metadata": {},
   "source": [
    "## Training"
   ]
  },
  {
   "cell_type": "code",
   "execution_count": 18,
   "metadata": {
    "id": "fXbSSUTCAq8w"
   },
   "outputs": [],
   "source": [
    "train_labels = [torch.LongTensor(label) for label in train_labels]\n",
    "train_labels = pad_sequence(train_labels, batch_first=True)\n",
    "\n",
    "valid_labels = [torch.LongTensor(label) for label in valid_labels]\n",
    "valid_labels = pad_sequence(valid_labels, batch_first=True)\n",
    "\n",
    "test_labels = [torch.LongTensor(label) for label in test_labels]\n",
    "test_labels = pad_sequence(test_labels, batch_first=True)"
   ]
  },
  {
   "cell_type": "code",
   "execution_count": 19,
   "metadata": {},
   "outputs": [],
   "source": [
    "batch_size = 32\n",
    "\n",
    "train_set = FasttextDataset(train_embs, train_lengts, train_labels)\n",
    "valid_set = FasttextDataset(valid_embs, valid_lengts, valid_labels)\n",
    "test_set = FasttextDataset(test_embs, test_lengts, test_labels)\n",
    "\n",
    "train_loader = DataLoader(train_set, batch_size=batch_size, shuffle=True)\n",
    "valid_loader = DataLoader(valid_set, batch_size=batch_size, shuffle=False)\n",
    "test_loader = DataLoader(test_set, batch_size=batch_size, shuffle=False)"
   ]
  },
  {
   "cell_type": "code",
   "execution_count": 20,
   "metadata": {},
   "outputs": [
    {
     "data": {
      "text/plain": [
       "DialogueNetFasttext(\n",
       "  (rnn_embedder): RNNEmbedder(\n",
       "    (rnn): GRU(300, 128, batch_first=True, bidirectional=True)\n",
       "  )\n",
       "  (dialogue_rnn): DialogueRNN(\n",
       "    (rnn): GRU(256, 128, batch_first=True)\n",
       "    (norm): LayerNorm((128,), eps=1e-05, elementwise_affine=True)\n",
       "    (head): Sequential(\n",
       "      (0): Linear(in_features=128, out_features=128, bias=True)\n",
       "      (1): ReLU()\n",
       "      (2): Linear(in_features=128, out_features=43, bias=True)\n",
       "    )\n",
       "  )\n",
       ")"
      ]
     },
     "execution_count": 20,
     "metadata": {},
     "output_type": "execute_result"
    }
   ],
   "source": [
    "net = DialogueNetFasttext(\n",
    "    input_size=300, \n",
    "    output_size=len(tag_occurances), \n",
    "    rnn_hidden_size=128, \n",
    "    use_layer_norm=True, \n",
    "    max_utterance_len=max_length,\n",
    ")\n",
    "\n",
    "net"
   ]
  },
  {
   "cell_type": "code",
   "execution_count": 21,
   "metadata": {},
   "outputs": [],
   "source": [
    "optimizer = optim.Adam(net.parameters(), lr=0.01)"
   ]
  },
  {
   "cell_type": "code",
   "execution_count": 36,
   "metadata": {},
   "outputs": [
    {
     "name": "stdout",
     "output_type": "stream",
     "text": [
      "[EPOCH 0] Train loss: 2.1569758355617523\n",
      "[EPOCH 0] Val loss: 1.6215979158878326, F1-score: 0.5408546839449995\n",
      "[EPOCH 0] Test loss: 1.6923454999923706, F1-score: 0.49490474080638014\n",
      "[EPOCH 1] Train loss: 1.4027735851705074\n",
      "[EPOCH 1] Val loss: 1.2336041331291199, F1-score: 0.6182114947076862\n",
      "[EPOCH 1] Test loss: 1.3457103967666626, F1-score: 0.5624723083739477\n",
      "[EPOCH 2] Train loss: 1.1046676971018314\n",
      "[EPOCH 2] Val loss: 0.9988842308521271, F1-score: 0.6951231575823523\n",
      "[EPOCH 2] Test loss: 1.1133297681808472, F1-score: 0.6535223748338502\n",
      "[EPOCH 3] Train loss: 0.9527820367366076\n",
      "[EPOCH 3] Val loss: 0.8835627436637878, F1-score: 0.7281630230487685\n",
      "[EPOCH 3] Test loss: 0.9548056721687317, F1-score: 0.7042534337616305\n",
      "[EPOCH 4] Train loss: 0.8554622232913971\n",
      "[EPOCH 4] Val loss: 0.8157291859388351, F1-score: 0.7484914432683747\n",
      "[EPOCH 4] Test loss: 0.8814233541488647, F1-score: 0.727292866637129\n",
      "[EPOCH 5] Train loss: 0.7931054085493088\n",
      "[EPOCH 5] Val loss: 0.7624399065971375, F1-score: 0.7615985755267584\n",
      "[EPOCH 5] Test loss: 0.8343629240989685, F1-score: 0.7381479840496233\n",
      "[EPOCH 6] Train loss: 0.7382356580346823\n",
      "[EPOCH 6] Val loss: 0.7655123472213745, F1-score: 0.7522010090018795\n",
      "[EPOCH 6] Test loss: 0.8204759955406189, F1-score: 0.7337173238812583\n",
      "[EPOCH 7] Train loss: 0.7113202195614576\n",
      "[EPOCH 7] Val loss: 0.7203398793935776, F1-score: 0.76807795034128\n",
      "[EPOCH 7] Test loss: 0.7972266674041748, F1-score: 0.743907842268498\n",
      "[EPOCH 8] Train loss: 0.6736366841942072\n",
      "[EPOCH 8] Val loss: 0.7086797505617142, F1-score: 0.7694133940053418\n",
      "[EPOCH 8] Test loss: 0.7645148038864136, F1-score: 0.7483385024368631\n",
      "[EPOCH 9] Train loss: 0.6513499692082405\n",
      "[EPOCH 9] Val loss: 0.6998999118804932, F1-score: 0.7788604214066672\n",
      "[EPOCH 9] Test loss: 0.7543931007385254, F1-score: 0.7662826761187417\n",
      "[EPOCH 10] Train loss: 0.6311103142797947\n",
      "[EPOCH 10] Val loss: 0.7093686610460281, F1-score: 0.770303689781383\n",
      "[EPOCH 10] Test loss: 0.7857492566108704, F1-score: 0.7423571112095703\n",
      "[EPOCH 11] Train loss: 0.6040255315601826\n",
      "[EPOCH 11] Val loss: 0.6871512085199356, F1-score: 0.7783658126422002\n",
      "[EPOCH 11] Test loss: 0.7535040378570557, F1-score: 0.7576428887904297\n",
      "[EPOCH 12] Train loss: 0.5760403387248516\n",
      "[EPOCH 12] Val loss: 0.6875178515911102, F1-score: 0.7763873775843307\n",
      "[EPOCH 12] Test loss: 0.7574904561042786, F1-score: 0.7509968985378821\n",
      "Early stopping\n"
     ]
    },
    {
     "data": {
      "image/png": "[encoded data removed]",
      "text/plain": [
       "<Figure size 1800x500 with 2 Axes>"
      ]
     },
     "metadata": {},
     "output_type": "display_data"
    }
   ],
   "source": [
    "train_model(net, train_loader, valid_loader, test_loader, optimizer,\n",
    "            bert_finetuning_epochs=None, n_epochs=100, verbose=True, plot=True)"
   ]
  },
  {
   "cell_type": "code",
   "execution_count": null,
   "metadata": {},
   "outputs": [],
   "source": []
  }
 ],
 "metadata": {
  "colab": {
   "provenance": []
  },
  "kernelspec": {
   "display_name": "Python 3 (ipykernel)",
   "language": "python",
   "name": "python3"
  },
  "language_info": {
   "codemirror_mode": {
    "name": "ipython",
    "version": 3
   },
   "file_extension": ".py",
   "mimetype": "text/x-python",
   "name": "python",
   "nbconvert_exporter": "python",
   "pygments_lexer": "ipython3",
   "version": "3.8.6"
  }
 },
 "nbformat": 4,
 "nbformat_minor": 4
}
