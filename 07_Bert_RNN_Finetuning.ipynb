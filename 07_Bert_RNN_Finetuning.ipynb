{
 "cells": [
  {
   "cell_type": "code",
   "execution_count": null,
   "metadata": {
    "id": "241GWr_3JFfW"
   },
   "outputs": [],
   "source": [
    "!git clone --recurse-submodules https://github.com/JandJane/DialogueActClassification.git"
   ]
  },
  {
   "cell_type": "code",
   "execution_count": null,
   "metadata": {
    "id": "YghEkjw2JJV9"
   },
   "outputs": [],
   "source": [
    "!unzip DialogueActClassification/swda/swda.zip -d DialogueActClassification/swda/swda"
   ]
  },
  {
   "cell_type": "code",
   "execution_count": null,
   "metadata": {
    "id": "zDP_uwvBJNCr"
   },
   "outputs": [],
   "source": [
    "!pip install -r DialogueActClassification/requirements.txt"
   ]
  },
  {
   "cell_type": "code",
   "execution_count": 1,
   "metadata": {
    "id": "a1bj5Quj0zde"
   },
   "outputs": [],
   "source": [
    "%load_ext autoreload\n",
    "%autoreload 2"
   ]
  },
  {
   "cell_type": "code",
   "execution_count": 2,
   "metadata": {
    "id": "gNIW3ki_07Ix"
   },
   "outputs": [],
   "source": [
    "%matplotlib inline\n",
    "\n",
    "import matplotlib.pyplot as plt\n",
    "import numpy as np\n",
    "import pandas as pd\n",
    "import seaborn as sns\n",
    "import transformers\n",
    "import torch\n",
    "import torch.optim as optim\n",
    "from torch.nn.utils.rnn import pad_sequence\n",
    "from torch.utils.data import DataLoader\n",
    "from transformers import BertTokenizer\n",
    "from tqdm import tqdm\n",
    "\n",
    "import sys\n",
    "sys.path.append('DialogueActClassification')\n",
    "\n",
    "from dialogue_classification.dataset_utils import load_swda_corpus_data\n",
    "from dialogue_classification.dataset import BertDataset\n",
    "from dialogue_classification.models import DialogueNetBert\n",
    "from dialogue_classification.train_test_split import train_set_idx, valid_set_idx, test_set_idx\n",
    "from dialogue_classification.training import train_model"
   ]
  },
  {
   "cell_type": "markdown",
   "metadata": {
    "id": "E6SrBAMs1o7a"
   },
   "source": [
    "## Prepare data"
   ]
  },
  {
   "cell_type": "code",
   "execution_count": 3,
   "metadata": {
    "colab": {
     "base_uri": "https://localhost:8080/"
    },
    "id": "hbuKg3Qm1chv",
    "outputId": "8d75df9c-4601-4eb9-8d6a-b140f6d16977"
   },
   "outputs": [
    {
     "name": "stdout",
     "output_type": "stream",
     "text": [
      "Loading SwDA Corpus...\n",
      "\n",
      "Found 43 different utterance tags.\n",
      "\n",
      "Loaded SwDA Corpus.\n"
     ]
    }
   ],
   "source": [
    "talks, talk_names, tag_indices, tag_occurances = load_swda_corpus_data('DialogueActClassification/swda/swda/swda')"
   ]
  },
  {
   "cell_type": "code",
   "execution_count": 4,
   "metadata": {
    "colab": {
     "base_uri": "https://localhost:8080/"
    },
    "id": "lc6bTubM1mw-",
    "outputId": "3059e7b0-3d03-4d70-81eb-df240cb2db0e"
   },
   "outputs": [
    {
     "data": {
      "text/plain": [
       "(1155, 43)"
      ]
     },
     "execution_count": 4,
     "metadata": {},
     "output_type": "execute_result"
    }
   ],
   "source": [
    "len(talks), len(tag_indices)"
   ]
  },
  {
   "cell_type": "code",
   "execution_count": 5,
   "metadata": {
    "id": "S0Z-vN201qog"
   },
   "outputs": [],
   "source": [
    "texts, labels = [], []\n",
    "for text, label in talks:\n",
    "    assert len(text) == len(label)\n",
    "    text = [' '.join(utterance) for utterance in text]\n",
    "    texts.append(text)\n",
    "    labels.append(label)"
   ]
  },
  {
   "cell_type": "markdown",
   "metadata": {
    "id": "yMxa5LWu3N2y"
   },
   "source": [
    "## Bert Tokenize"
   ]
  },
  {
   "cell_type": "code",
   "execution_count": 6,
   "metadata": {
    "id": "dYSHNgFR4H3j"
   },
   "outputs": [],
   "source": [
    "max_length = 30"
   ]
  },
  {
   "cell_type": "code",
   "execution_count": 7,
   "metadata": {
    "id": "OVuCB4kDJDMD"
   },
   "outputs": [],
   "source": [
    "tokenizer = BertTokenizer.from_pretrained('bert-base-cased', do_lower_case=False, model_max_length=max_length)\n"
   ]
  },
  {
   "cell_type": "code",
   "execution_count": 8,
   "metadata": {
    "colab": {
     "base_uri": "https://localhost:8080/"
    },
    "id": "JS7ol_zCJDME",
    "outputId": "b208329b-c5be-4666-808a-ae6ab5b46d75"
   },
   "outputs": [
    {
     "name": "stderr",
     "output_type": "stream",
     "text": [
      "100%|██████████| 1155/1155 [00:39<00:00, 29.49it/s]\n"
     ]
    }
   ],
   "source": [
    "input_ids, attention_masks = [], []\n",
    "for text in tqdm(texts):\n",
    "    encoded_input = tokenizer(text, padding=True, truncation=True, return_tensors='pt')\n",
    "    input_ids.append(encoded_input['input_ids'])\n",
    "    attention_masks.append(encoded_input['attention_mask'])    "
   ]
  },
  {
   "cell_type": "code",
   "execution_count": 9,
   "metadata": {
    "id": "fcaov4qJJDME"
   },
   "outputs": [],
   "source": [
    "for i in range(len(input_ids)):\n",
    "    if input_ids[i].size(1) < max_length:\n",
    "        padding_shape = (input_ids[i].size(0), max_length - input_ids[i].size(1))\n",
    "        input_ids[i] = torch.cat((input_ids[i], torch.zeros(padding_shape)), axis=1)\n",
    "        attention_masks[i] = torch.cat((attention_masks[i], torch.zeros(padding_shape)), axis=1)"
   ]
  },
  {
   "cell_type": "code",
   "execution_count": 10,
   "metadata": {
    "id": "h0QhPDb3JDME"
   },
   "outputs": [],
   "source": [
    "dialogue_lengths = [len(dialogue) for dialogue in input_ids]\n",
    "dialogue_lengths = torch.LongTensor(dialogue_lengths)\n",
    "\n",
    "input_ids = pad_sequence(input_ids, batch_first=True)\n",
    "attention_masks = pad_sequence(attention_masks, batch_first=True)\n",
    "\n",
    "labels = [torch.LongTensor(label) for label in labels]\n",
    "y = pad_sequence(labels, batch_first=True)"
   ]
  },
  {
   "cell_type": "code",
   "execution_count": 11,
   "metadata": {
    "colab": {
     "base_uri": "https://localhost:8080/"
    },
    "id": "jaxzFCD9JDME",
    "outputId": "9835711e-9f3e-49f5-b022-5c57ffb9225c"
   },
   "outputs": [
    {
     "data": {
      "text/plain": [
       "(torch.Size([1155]),\n",
       " torch.Size([1155, 540, 30]),\n",
       " torch.Size([1155, 540, 30]),\n",
       " torch.Size([1155, 540]))"
      ]
     },
     "execution_count": 11,
     "metadata": {},
     "output_type": "execute_result"
    }
   ],
   "source": [
    "dialogue_lengths.shape, input_ids.shape, attention_masks.shape, y.shape"
   ]
  },
  {
   "cell_type": "markdown",
   "metadata": {
    "id": "cxD-NDr9JDME"
   },
   "source": [
    "## Training"
   ]
  },
  {
   "cell_type": "code",
   "execution_count": 12,
   "metadata": {
    "id": "4ed2da7a-8ce0-4910-930b-8e1c656b2104"
   },
   "outputs": [],
   "source": [
    "train_idx = np.isin(talk_names, train_set_idx)\n",
    "valid_idx = np.isin(talk_names, valid_set_idx)\n",
    "test_idx = np.isin(talk_names, test_set_idx)"
   ]
  },
  {
   "cell_type": "code",
   "execution_count": 13,
   "metadata": {
    "id": "azEDjLX8JDME"
   },
   "outputs": [],
   "source": [
    "train_set = BertDataset(input_ids[train_idx], attention_masks[train_idx], dialogue_lengths[train_idx], y[train_idx])\n",
    "valid_set = BertDataset(input_ids[valid_idx], attention_masks[valid_idx], dialogue_lengths[valid_idx], y[valid_idx])\n",
    "test_set = BertDataset(input_ids[test_idx], attention_masks[test_idx], dialogue_lengths[test_idx], y[test_idx])"
   ]
  },
  {
   "cell_type": "code",
   "execution_count": 14,
   "metadata": {
    "id": "4-d79E1GJDME"
   },
   "outputs": [],
   "source": [
    "batch_size = 16\n",
    "\n",
    "train_loader = DataLoader(train_set, batch_size=batch_size, shuffle=True)\n",
    "valid_loader = DataLoader(valid_set, batch_size=batch_size, shuffle=False)\n",
    "test_loader = DataLoader(test_set, batch_size=batch_size, shuffle=False)"
   ]
  },
  {
   "cell_type": "code",
   "execution_count": 15,
   "metadata": {
    "colab": {
     "base_uri": "https://localhost:8080/"
    },
    "id": "RARktI1GJDME",
    "outputId": "2ba38b78-585c-467f-bd81-2260bf58b3bd"
   },
   "outputs": [
    {
     "name": "stderr",
     "output_type": "stream",
     "text": [
      "Some weights of the model checkpoint at bert-base-cased were not used when initializing BertModel: ['cls.seq_relationship.weight', 'cls.predictions.decoder.weight', 'cls.predictions.transform.dense.weight', 'cls.predictions.transform.dense.bias', 'cls.predictions.transform.LayerNorm.bias', 'cls.predictions.bias', 'cls.predictions.transform.LayerNorm.weight', 'cls.seq_relationship.bias']\n",
      "- This IS expected if you are initializing BertModel from the checkpoint of a model trained on another task or with another architecture (e.g. initializing a BertForSequenceClassification model from a BertForPreTraining model).\n",
      "- This IS NOT expected if you are initializing BertModel from the checkpoint of a model that you expect to be exactly identical (initializing a BertForSequenceClassification model from a BertForSequenceClassification model).\n"
     ]
    }
   ],
   "source": [
    "net = DialogueNetBert(\n",
    "    input_size=768, \n",
    "    output_size=len(tag_occurances), \n",
    "    rnn_hidden_size=128, \n",
    "    use_layer_norm=True, \n",
    "    max_utterance_len=max_length,\n",
    "    bert_layers_to_finetune=2,\n",
    ")"
   ]
  },
  {
   "cell_type": "code",
   "execution_count": 16,
   "metadata": {
    "id": "DwZkrjiJJDMF"
   },
   "outputs": [],
   "source": [
    "optimizer = optim.Adam(net.parameters(), lr=0.001)"
   ]
  },
  {
   "cell_type": "code",
   "execution_count": 17,
   "metadata": {
    "colab": {
     "base_uri": "https://localhost:8080/",
     "height": 818
    },
    "id": "Ayok6h0QJDMF",
    "outputId": "a645207f-cf68-4a6f-fbdf-42de25f97f3d"
   },
   "outputs": [
    {
     "name": "stdout",
     "output_type": "stream",
     "text": [
      "[EPOCH 0] Train loss: 1.5384115226685056\n",
      "[EPOCH 0] Val loss: 0.9672927260398865, F1-score: 0.7241072311801365\n",
      "[EPOCH 0] Test loss: 1.037269651889801, F1-score: 0.6883030571555162\n",
      "[EPOCH 1] Train loss: 0.8437608499375601\n",
      "[EPOCH 1] Val loss: 0.7423100045749119, F1-score: 0.7734691858739737\n",
      "[EPOCH 1] Test loss: 0.7831990420818329, F1-score: 0.7494461674789543\n",
      "[EPOCH 2] Train loss: 0.7110395535590157\n",
      "[EPOCH 2] Val loss: 0.6734299489430019, F1-score: 0.7839548916806804\n",
      "[EPOCH 2] Test loss: 0.7175270617008209, F1-score: 0.765618077093487\n",
      "[EPOCH 3] Train loss: 0.6344521783647084\n",
      "[EPOCH 3] Val loss: 0.630747880254473, F1-score: 0.7973093283212979\n",
      "[EPOCH 3] Test loss: 0.693562775850296, F1-score: 0.7718210013291982\n",
      "[EPOCH 4] Train loss: 0.6148228995383732\n",
      "[EPOCH 4] Val loss: 0.6239386882100787, F1-score: 0.7951825106340885\n",
      "[EPOCH 4] Test loss: 0.6965798139572144, F1-score: 0.7684980062029241\n",
      "[EPOCH 5] Train loss: 0.6022709210713705\n",
      "[EPOCH 5] Val loss: 0.6173247694969177, F1-score: 0.7972104065684044\n",
      "[EPOCH 5] Test loss: 0.6662295460700989, F1-score: 0.7800177226406735\n",
      "[EPOCH 6] Train loss: 0.5916150751568022\n",
      "[EPOCH 6] Val loss: 0.6184074793543134, F1-score: 0.7977544762093184\n",
      "[EPOCH 6] Test loss: 0.6599404513835907, F1-score: 0.7786885245901639\n",
      "[EPOCH 7] Train loss: 0.5836105966378772\n",
      "[EPOCH 7] Val loss: 0.6116658023425511, F1-score: 0.800029676525868\n",
      "[EPOCH 7] Test loss: 0.6623755395412445, F1-score: 0.7802392556490917\n",
      "[EPOCH 8] Train loss: 0.5736230441502163\n",
      "[EPOCH 8] Val loss: 0.6095560959407261, F1-score: 0.7973587891977446\n",
      "[EPOCH 8] Test loss: 0.6667768359184265, F1-score: 0.7751439964554718\n",
      "[EPOCH 9] Train loss: 0.5663760148343586\n",
      "[EPOCH 9] Val loss: 0.6066072157451085, F1-score: 0.7983974676031259\n",
      "[EPOCH 9] Test loss: 0.6607262492179871, F1-score: 0.78046078865751\n",
      "[EPOCH 10] Train loss: 0.5641802738583277\n",
      "[EPOCH 10] Val loss: 0.628764169556754, F1-score: 0.7926105450588584\n",
      "[EPOCH 10] Test loss: 0.723786860704422, F1-score: 0.7614089499335401\n",
      "Early stopping\n"
     ]
    },
    {
     "data": {
      "image/png": "[encoded data removed]",
      "text/plain": [
       "<Figure size 1800x500 with 2 Axes>"
      ]
     },
     "metadata": {},
     "output_type": "display_data"
    }
   ],
   "source": [
    "train_model(net, train_loader, valid_loader, test_loader, optimizer,\n",
    "            bert_finetuning_epochs=3, n_epochs=100, verbose=True, plot=True)"
   ]
  },
  {
   "cell_type": "code",
   "execution_count": null,
   "metadata": {
    "id": "n1Onh0tw6mq-"
   },
   "outputs": [],
   "source": []
  }
 ],
 "metadata": {
  "accelerator": "GPU",
  "colab": {
   "provenance": [],
   "toc_visible": true
  },
  "gpuClass": "premium",
  "kernelspec": {
   "display_name": "Python 3 (ipykernel)",
   "language": "python",
   "name": "python3"
  },
  "language_info": {
   "codemirror_mode": {
    "name": "ipython",
    "version": 3
   },
   "file_extension": ".py",
   "mimetype": "text/x-python",
   "name": "python",
   "nbconvert_exporter": "python",
   "pygments_lexer": "ipython3",
   "version": "3.8.6"
  }
 },
 "nbformat": 4,
 "nbformat_minor": 4
}
